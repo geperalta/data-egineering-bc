{
 "cells": [
  {
   "cell_type": "markdown",
   "metadata": {
    "id": "Ab6tQ8XLwqzG"
   },
   "source": [
    "# Data Bootcamp Selection Challenge\n",
    "\n",
    "##### In this challenge you will calculate various KPIs using a car based dataset, each question will have a single correct answer that will be evaluated through automated unit testing. Use the dictionary provided below to fill in your answers, each question will state the format required for the answer and examples are provided so you know how properly fill the answer dictionary. \n",
    "\n",
    "##### **Use the dataset \"as is\" and do not perform any data cleaning or modify it in any way, doing so could make you answer all your questions incorrectly. Do not modify the structure of the answer dictionary.**\n",
    "\n",
    "##### When you finish this challenge please upload both your notebook and your answer dictionary in pickle format to a public github repository submit their URL to the [google form](https://forms.gle/wWysZEMkoZsjB11Y7) that was provided to you.\n",
    "\n",
    "##### Some unit tests are provided at the end of this notebook to help you verify your answers are in the correct format, however they will not test everything.\n",
    "\n",
    "\n",
    "\n"
   ]
  },
  {
   "cell_type": "code",
   "execution_count": 169,
   "metadata": {
    "id": "1kj3oTmRvWXi"
   },
   "outputs": [],
   "source": [
    "#Use this dictionary to store your answers in the correct format in the cells below , do not modify the keys\n",
    "answer_dict =  {\"Q1\" : Q1,\n",
    "                \"Q2\" : Q2,\n",
    "                \"Q3\" : Q3,\n",
    "                \"Q4\" : Q4,\n",
    "                \"Q5\" : Q5,\n",
    "                \"Q6\" : Q6,\n",
    "                \"Q7\" : Q7}"
   ]
  },
  {
   "cell_type": "markdown",
   "metadata": {
    "id": "Z0pZ4Vlx3VZy"
   },
   "source": [
    "## Reading the dataset\n",
    "##### An example is provided to read the dataset using [pandas](https://pandas.pydata.org/), while we reccommend using pandas you may use any python library to solve this challenge. "
   ]
  },
  {
   "cell_type": "code",
   "execution_count": 10,
   "metadata": {
    "id": "7U3UNKSj3oxa"
   },
   "outputs": [],
   "source": [
    "import pandas as pd\n",
    "import numpy as np\n",
    "url='https://drive.google.com/file/d/1PCJ7ltluquoXKi6MYTPMfwZQNI_-MIFP/view?usp=sharing'\n",
    "url='https://drive.google.com/uc?id=' + url.split('/')[-2]\n",
    "df = pd.read_csv(url)"
   ]
  },
  {
   "cell_type": "code",
   "execution_count": null,
   "metadata": {
    "colab": {
     "base_uri": "https://localhost:8080/",
     "height": 511
    },
    "id": "J10uW58Qv2B_",
    "outputId": "43812e2d-05ba-4ea7-c54e-c2b4bebd6399"
   },
   "outputs": [],
   "source": [
    "df.head()"
   ]
  },
  {
   "cell_type": "code",
   "execution_count": 11,
   "metadata": {
    "colab": {
     "base_uri": "https://localhost:8080/"
    },
    "id": "LutcGEx8v4GY",
    "outputId": "b5a586cb-fc59-4130-c1d3-33429a91a1f8"
   },
   "outputs": [
    {
     "name": "stdout",
     "output_type": "stream",
     "text": [
      "<class 'pandas.core.frame.DataFrame'>\n",
      "RangeIndex: 35952 entries, 0 to 35951\n",
      "Data columns (total 15 columns):\n",
      " #   Column                   Non-Null Count  Dtype  \n",
      "---  ------                   --------------  -----  \n",
      " 0   Make                     35952 non-null  object \n",
      " 1   Model                    35952 non-null  object \n",
      " 2   Year                     35952 non-null  int64  \n",
      " 3   Engine Displacement      35952 non-null  float64\n",
      " 4   Cylinders                35952 non-null  float64\n",
      " 5   Transmission             35952 non-null  object \n",
      " 6   Drivetrain               35952 non-null  object \n",
      " 7   Vehicle Class            35952 non-null  object \n",
      " 8   Fuel Type                35952 non-null  object \n",
      " 9   Fuel Barrels/Year        35952 non-null  float64\n",
      " 10  City MPG                 35952 non-null  int64  \n",
      " 11  Highway MPG              35952 non-null  int64  \n",
      " 12  Combined MPG             35952 non-null  int64  \n",
      " 13  CO2 Emission Grams/Mile  35952 non-null  float64\n",
      " 14  Fuel Cost/Year           35952 non-null  int64  \n",
      "dtypes: float64(4), int64(5), object(6)\n",
      "memory usage: 4.1+ MB\n"
     ]
    }
   ],
   "source": [
    "df.info()"
   ]
  },
  {
   "cell_type": "markdown",
   "metadata": {
    "id": "kLRp8K_wnEJG"
   },
   "source": [
    "## Q1. What is the average CO2 emmission per gram/mile of all Volkswagen cars?\n",
    "\n",
    "##### Format: A floating number\n",
    "##### Example answer:\n",
    " `11.547`"
   ]
  },
  {
   "cell_type": "code",
   "execution_count": 99,
   "metadata": {
    "colab": {
     "base_uri": "https://localhost:8080/"
    },
    "id": "jBGXf7RRnEoV",
    "outputId": "7e9170cb-6f1a-4991-8461-299a8592bdb1"
   },
   "outputs": [
    {
     "data": {
      "text/plain": [
       "CO2 Emission Grams/Mile    392.741721\n",
       "dtype: float64"
      ]
     },
     "execution_count": 99,
     "metadata": {},
     "output_type": "execute_result"
    }
   ],
   "source": [
    "########## Q1\n",
    "#Your code here\n",
    "# Make the DF a variable with a more intitive name\n",
    "cars = df\n",
    "\n",
    "# Get only the 'Volkswagen' rows from the 'Make' colum and show only the data from 'CO2 Emission Grams/Mile'\n",
    "# Assign it to a variable Volks to apply the mean function\n",
    "volks = cars[cars.Make =='Volkswagen'][['CO2 Emission Grams/Mile']].mean()\n",
    "volks\n",
    "\n",
    "#Example answer:\n",
    "#answer_dict[\"Q1\"] =  11.547"
   ]
  },
  {
   "cell_type": "code",
   "execution_count": 100,
   "metadata": {
    "colab": {
     "base_uri": "https://localhost:8080/"
    },
    "id": "nEi4n7ohTwg6",
    "outputId": "4d01cd4a-06cd-4456-94ca-333e03f90675",
    "scrolled": true
   },
   "outputs": [
    {
     "data": {
      "text/plain": [
       "392.7417210857633"
      ]
     },
     "execution_count": 100,
     "metadata": {},
     "output_type": "execute_result"
    }
   ],
   "source": [
    "# To follow requested format select the unique value from the list and Add it to result variable a -Q1-\n",
    "Q1 = volks.values.tolist()[0]\n",
    "Q1"
   ]
  },
  {
   "cell_type": "markdown",
   "metadata": {
    "id": "SPNq7yn74kjd"
   },
   "source": [
    "## Q2. Calculate the top 5 brands(Make) with the most unique models, order your answer in descending order with respect to the number of unique models.\n",
    "##### **NOTE:** Consider only the name of the models and their brand, that is use only the Make and Model columns\n",
    "##### Format: A 5X2 list with each row being the name of the brand followed by the unique number of models, in descending order.\n",
    "##### Hint: You can use the pandas [df.values.tolist()](https://pandas.pydata.org/docs/reference/api/pandas.Series.tolist.html) function to format your answer.\n",
    "\n",
    "##### Example answer: \n",
    "`[[\"Volkswagen\", 1000], [\"Toyota\", 900], [\"Honda\", 800], [\"Subaru\", 700], [\"Ford\", 600]]`"
   ]
  },
  {
   "cell_type": "code",
   "execution_count": 14,
   "metadata": {
    "id": "StipyFue4Dx-"
   },
   "outputs": [],
   "source": [
    "########## Q2\n",
    "#Your code here\n",
    "\n",
    "#Example answer:\n",
    "#answer_dict[\"Q2\"] =  [[\"Volkswagen\", 1000], [\"Toyota\", 900], [\"Honda\", 800], [\"Subaru\", 700], [\"Ford\", 600]] "
   ]
  },
  {
   "cell_type": "code",
   "execution_count": 111,
   "metadata": {
    "colab": {
     "base_uri": "https://localhost:8080/",
     "height": 338
    },
    "id": "BMmb6EAKkmhf",
    "outputId": "769b8dac-f165-4f62-faba-c3bff0343482"
   },
   "outputs": [
    {
     "data": {
      "text/html": [
       "<div>\n",
       "<style scoped>\n",
       "    .dataframe tbody tr th:only-of-type {\n",
       "        vertical-align: middle;\n",
       "    }\n",
       "\n",
       "    .dataframe tbody tr th {\n",
       "        vertical-align: top;\n",
       "    }\n",
       "\n",
       "    .dataframe thead th {\n",
       "        text-align: right;\n",
       "    }\n",
       "</style>\n",
       "<table border=\"1\" class=\"dataframe\">\n",
       "  <thead>\n",
       "    <tr style=\"text-align: right;\">\n",
       "      <th></th>\n",
       "      <th>Model</th>\n",
       "    </tr>\n",
       "    <tr>\n",
       "      <th>Make</th>\n",
       "      <th></th>\n",
       "    </tr>\n",
       "  </thead>\n",
       "  <tbody>\n",
       "    <tr>\n",
       "      <th>AM General</th>\n",
       "      <td>4</td>\n",
       "    </tr>\n",
       "    <tr>\n",
       "      <th>ASC Incorporated</th>\n",
       "      <td>1</td>\n",
       "    </tr>\n",
       "    <tr>\n",
       "      <th>Acura</th>\n",
       "      <td>39</td>\n",
       "    </tr>\n",
       "    <tr>\n",
       "      <th>Alfa Romeo</th>\n",
       "      <td>8</td>\n",
       "    </tr>\n",
       "    <tr>\n",
       "      <th>American Motors Corporation</th>\n",
       "      <td>4</td>\n",
       "    </tr>\n",
       "    <tr>\n",
       "      <th>...</th>\n",
       "      <td>...</td>\n",
       "    </tr>\n",
       "    <tr>\n",
       "      <th>Volkswagen</th>\n",
       "      <td>63</td>\n",
       "    </tr>\n",
       "    <tr>\n",
       "      <th>Volvo</th>\n",
       "      <td>83</td>\n",
       "    </tr>\n",
       "    <tr>\n",
       "      <th>Wallace Environmental</th>\n",
       "      <td>18</td>\n",
       "    </tr>\n",
       "    <tr>\n",
       "      <th>Yugo</th>\n",
       "      <td>4</td>\n",
       "    </tr>\n",
       "    <tr>\n",
       "      <th>smart</th>\n",
       "      <td>3</td>\n",
       "    </tr>\n",
       "  </tbody>\n",
       "</table>\n",
       "<p>127 rows × 1 columns</p>\n",
       "</div>"
      ],
      "text/plain": [
       "                             Model\n",
       "Make                              \n",
       "AM General                       4\n",
       "ASC Incorporated                 1\n",
       "Acura                           39\n",
       "Alfa Romeo                       8\n",
       "American Motors Corporation      4\n",
       "...                            ...\n",
       "Volkswagen                      63\n",
       "Volvo                           83\n",
       "Wallace Environmental           18\n",
       "Yugo                             4\n",
       "smart                            3\n",
       "\n",
       "[127 rows x 1 columns]"
      ]
     },
     "execution_count": 111,
     "metadata": {},
     "output_type": "execute_result"
    }
   ],
   "source": [
    "# Groupby 'Make' and show the unique values from 'Models', show only the column 'Model' as a df \n",
    "# and assing it to a DF variable -gb-\n",
    "gb = cars.groupby('Make').nunique('Models')[['Model']]\n",
    "gb"
   ]
  },
  {
   "cell_type": "code",
   "execution_count": 112,
   "metadata": {},
   "outputs": [
    {
     "data": {
      "text/html": [
       "<div>\n",
       "<style scoped>\n",
       "    .dataframe tbody tr th:only-of-type {\n",
       "        vertical-align: middle;\n",
       "    }\n",
       "\n",
       "    .dataframe tbody tr th {\n",
       "        vertical-align: top;\n",
       "    }\n",
       "\n",
       "    .dataframe thead th {\n",
       "        text-align: right;\n",
       "    }\n",
       "</style>\n",
       "<table border=\"1\" class=\"dataframe\">\n",
       "  <thead>\n",
       "    <tr style=\"text-align: right;\">\n",
       "      <th></th>\n",
       "      <th>Model</th>\n",
       "    </tr>\n",
       "    <tr>\n",
       "      <th>Make</th>\n",
       "      <th></th>\n",
       "    </tr>\n",
       "  </thead>\n",
       "  <tbody>\n",
       "    <tr>\n",
       "      <th>Mercedes-Benz</th>\n",
       "      <td>333</td>\n",
       "    </tr>\n",
       "    <tr>\n",
       "      <th>BMW</th>\n",
       "      <td>284</td>\n",
       "    </tr>\n",
       "    <tr>\n",
       "      <th>Chevrolet</th>\n",
       "      <td>253</td>\n",
       "    </tr>\n",
       "    <tr>\n",
       "      <th>Ford</th>\n",
       "      <td>185</td>\n",
       "    </tr>\n",
       "    <tr>\n",
       "      <th>GMC</th>\n",
       "      <td>163</td>\n",
       "    </tr>\n",
       "  </tbody>\n",
       "</table>\n",
       "</div>"
      ],
      "text/plain": [
       "               Model\n",
       "Make                \n",
       "Mercedes-Benz    333\n",
       "BMW              284\n",
       "Chevrolet        253\n",
       "Ford             185\n",
       "GMC              163"
      ]
     },
     "execution_count": 112,
     "metadata": {},
     "output_type": "execute_result"
    }
   ],
   "source": [
    "# Sort the -gb- dataframe with decending values using the 'Model' column items and assign it to a varible -gbtop- \n",
    "gbtop = gb.sort_values('Model',ascending=False).head(5)\n",
    "gbtop"
   ]
  },
  {
   "cell_type": "code",
   "execution_count": 114,
   "metadata": {
    "colab": {
     "base_uri": "https://localhost:8080/",
     "height": 204
    },
    "id": "8TkuFeFyp-2w",
    "outputId": "bcfafc7b-d081-4e88-ac07-2bafa9f8c78f"
   },
   "outputs": [
    {
     "data": {
      "text/html": [
       "<div>\n",
       "<style scoped>\n",
       "    .dataframe tbody tr th:only-of-type {\n",
       "        vertical-align: middle;\n",
       "    }\n",
       "\n",
       "    .dataframe tbody tr th {\n",
       "        vertical-align: top;\n",
       "    }\n",
       "\n",
       "    .dataframe thead th {\n",
       "        text-align: right;\n",
       "    }\n",
       "</style>\n",
       "<table border=\"1\" class=\"dataframe\">\n",
       "  <thead>\n",
       "    <tr style=\"text-align: right;\">\n",
       "      <th></th>\n",
       "      <th>Make</th>\n",
       "      <th>Model</th>\n",
       "    </tr>\n",
       "  </thead>\n",
       "  <tbody>\n",
       "    <tr>\n",
       "      <th>0</th>\n",
       "      <td>Mercedes-Benz</td>\n",
       "      <td>333</td>\n",
       "    </tr>\n",
       "    <tr>\n",
       "      <th>1</th>\n",
       "      <td>BMW</td>\n",
       "      <td>284</td>\n",
       "    </tr>\n",
       "    <tr>\n",
       "      <th>2</th>\n",
       "      <td>Chevrolet</td>\n",
       "      <td>253</td>\n",
       "    </tr>\n",
       "    <tr>\n",
       "      <th>3</th>\n",
       "      <td>Ford</td>\n",
       "      <td>185</td>\n",
       "    </tr>\n",
       "    <tr>\n",
       "      <th>4</th>\n",
       "      <td>GMC</td>\n",
       "      <td>163</td>\n",
       "    </tr>\n",
       "  </tbody>\n",
       "</table>\n",
       "</div>"
      ],
      "text/plain": [
       "            Make  Model\n",
       "0  Mercedes-Benz    333\n",
       "1            BMW    284\n",
       "2      Chevrolet    253\n",
       "3           Ford    185\n",
       "4            GMC    163"
      ]
     },
     "execution_count": 114,
     "metadata": {},
     "output_type": "execute_result"
    }
   ],
   "source": [
    "# Since we want to make a list from the dataframe and show the 'Make' items, we need to reset the index\n",
    "# To verify, we assign it to a new variable -models- showing only the desired colums 'Make' and 'Model'\n",
    "models = gbtop.reset_index()\n",
    "models"
   ]
  },
  {
   "cell_type": "code",
   "execution_count": 115,
   "metadata": {
    "colab": {
     "base_uri": "https://localhost:8080/"
    },
    "id": "ajqshJPCqMdH",
    "outputId": "f5821425-eee1-498c-dc3a-e79af5ddf68e"
   },
   "outputs": [
    {
     "data": {
      "text/plain": [
       "[['Mercedes-Benz', 333],\n",
       " ['BMW', 284],\n",
       " ['Chevrolet', 253],\n",
       " ['Ford', 185],\n",
       " ['GMC', 163]]"
      ]
     },
     "execution_count": 115,
     "metadata": {},
     "output_type": "execute_result"
    }
   ],
   "source": [
    "# Transform the dataframe into a list and assign it to a variable Q2\n",
    "Q2 = models.values.tolist()\n",
    "Q2"
   ]
  },
  {
   "cell_type": "markdown",
   "metadata": {
    "id": "EGxv7N15AiLu"
   },
   "source": [
    "## Q3. What are all the different types of fuels in the dataset sorted alphabetically?\n",
    "\n",
    "##### Format: A list of strings sorted alphabetically.\n",
    "##### Example Answer: \n",
    "`['Regular',\n",
    " 'Premium']`"
   ]
  },
  {
   "cell_type": "code",
   "execution_count": 18,
   "metadata": {
    "id": "otyDsWpsAjde"
   },
   "outputs": [],
   "source": [
    "########## Q3\n",
    "#Your code here\n",
    "\n",
    "\n",
    "#Example answer:\n",
    "#answer_dict[\"Q3\"] =  ['Regular', 'Premium'] "
   ]
  },
  {
   "cell_type": "code",
   "execution_count": 166,
   "metadata": {
    "colab": {
     "base_uri": "https://localhost:8080/"
    },
    "id": "GOXSEB414-_D",
    "outputId": "43f3aad5-9503-465d-c9c5-73ad8ad08690"
   },
   "outputs": [
    {
     "data": {
      "text/plain": [
       "['CNG',\n",
       " 'Diesel',\n",
       " 'Gasoline or E85',\n",
       " 'Gasoline or natural gas',\n",
       " 'Gasoline or propane',\n",
       " 'Midgrade',\n",
       " 'Premium',\n",
       " 'Premium Gas or Electricity',\n",
       " 'Premium and Electricity',\n",
       " 'Premium or E85',\n",
       " 'Regular',\n",
       " 'Regular Gas and Electricity',\n",
       " 'Regular Gas or Electricity']"
      ]
     },
     "execution_count": 166,
     "metadata": {},
     "output_type": "execute_result"
    }
   ],
   "source": [
    "# We call the column 'Fuel Type' apply the unique function, we sort alphabetically\n",
    "# and get all the different types then make it a list\n",
    "Q3 = cars['Fuel Type'].sort_values().unique().tolist()\n",
    "Q3"
   ]
  },
  {
   "cell_type": "markdown",
   "metadata": {
    "id": "ijpZht03tV5W"
   },
   "source": [
    "## Q4. Show the 9 Toyota cars with the most extreme Fuel Barrels/Year in abosolute terms within all Toyota cars. \n",
    "\n",
    "- [x] Show the car Model, Year and their Fuel Barrels/Year in standard deviation units([Z-score](https://fredclavel.org/2019/03/18/basics-standardization-and-the-z-score/)) \n",
    "- [x] **sorted** in descending order by their Fuel Barrels/Year in absolute terms first and\n",
    "- [x] then by year in descending order \n",
    "- [x] **BUT** without modifying the negative values (see example).\n",
    "\n",
    "##### Format: A 9X3 list with each row containing the Model, Year and Fuel Barrels/Year in standard deviations units\n",
    "\n",
    "##### Example answer: \n",
    "```\n",
    "[['DJ Po Vehicle 2WD', 2004, -6.407431084026927],\n",
    " ['FJ8c Post Office', 2003, -6.407431084026927],\n",
    " ['Post Office DJ5 2WD', 2005, -6.391684618442447],\n",
    " ['Sierra 2500 Hd 2WD', 2002, -6.391684618442447],\n",
    " ['Camry CNG', 2012, 2.677633075759575],\n",
    " ['Sierra 1500 4WD', 2005, 2.677633075759575],\n",
    " ['Sierra 1500 4WD', 2001, 2.677633075759575],\n",
    " ['V15 Suburban 4WD', 1988, 2.677633075759575],\n",
    " ['V15 Suburban 4WD', 1987, 2.677633075759575]]\n",
    "```\n",
    "##### Note that while the list is sorted by the Fuel Barrels/Year in absolute terms and in standard deviation units, the values are not modified. If the values are the same the rows are sorted by the year.\n"
   ]
  },
  {
   "cell_type": "code",
   "execution_count": 142,
   "metadata": {
    "colab": {
     "base_uri": "https://localhost:8080/",
     "height": 824
    },
    "id": "de_GgmrFVcvO",
    "outputId": "4c9dd7d6-8b06-46a3-c90f-bc10f2b67eaa"
   },
   "outputs": [
    {
     "data": {
      "text/html": [
       "<div>\n",
       "<style scoped>\n",
       "    .dataframe tbody tr th:only-of-type {\n",
       "        vertical-align: middle;\n",
       "    }\n",
       "\n",
       "    .dataframe tbody tr th {\n",
       "        vertical-align: top;\n",
       "    }\n",
       "\n",
       "    .dataframe thead th {\n",
       "        text-align: right;\n",
       "    }\n",
       "</style>\n",
       "<table border=\"1\" class=\"dataframe\">\n",
       "  <thead>\n",
       "    <tr style=\"text-align: right;\">\n",
       "      <th></th>\n",
       "      <th>Model</th>\n",
       "      <th>Year</th>\n",
       "      <th>Fuel Barrels/Year</th>\n",
       "    </tr>\n",
       "  </thead>\n",
       "  <tbody>\n",
       "    <tr>\n",
       "      <th>32281</th>\n",
       "      <td>1-Ton Truck 2WD</td>\n",
       "      <td>1985</td>\n",
       "      <td>15.695714</td>\n",
       "    </tr>\n",
       "    <tr>\n",
       "      <th>32282</th>\n",
       "      <td>1-Ton Truck 2WD</td>\n",
       "      <td>1985</td>\n",
       "      <td>15.695714</td>\n",
       "    </tr>\n",
       "    <tr>\n",
       "      <th>32283</th>\n",
       "      <td>1-Ton Truck 2WD</td>\n",
       "      <td>1986</td>\n",
       "      <td>15.695714</td>\n",
       "    </tr>\n",
       "    <tr>\n",
       "      <th>32284</th>\n",
       "      <td>1-Ton Truck 2WD</td>\n",
       "      <td>1986</td>\n",
       "      <td>14.330870</td>\n",
       "    </tr>\n",
       "    <tr>\n",
       "      <th>32285</th>\n",
       "      <td>1-Ton Truck 2WD</td>\n",
       "      <td>1987</td>\n",
       "      <td>15.695714</td>\n",
       "    </tr>\n",
       "    <tr>\n",
       "      <th>...</th>\n",
       "      <td>...</td>\n",
       "      <td>...</td>\n",
       "      <td>...</td>\n",
       "    </tr>\n",
       "    <tr>\n",
       "      <th>34112</th>\n",
       "      <td>Yaris</td>\n",
       "      <td>2016</td>\n",
       "      <td>9.988182</td>\n",
       "    </tr>\n",
       "    <tr>\n",
       "      <th>34113</th>\n",
       "      <td>Yaris</td>\n",
       "      <td>2017</td>\n",
       "      <td>10.300313</td>\n",
       "    </tr>\n",
       "    <tr>\n",
       "      <th>34114</th>\n",
       "      <td>Yaris</td>\n",
       "      <td>2017</td>\n",
       "      <td>9.988182</td>\n",
       "    </tr>\n",
       "    <tr>\n",
       "      <th>34115</th>\n",
       "      <td>Yaris iA</td>\n",
       "      <td>2017</td>\n",
       "      <td>9.694412</td>\n",
       "    </tr>\n",
       "    <tr>\n",
       "      <th>34116</th>\n",
       "      <td>Yaris iA</td>\n",
       "      <td>2017</td>\n",
       "      <td>9.417429</td>\n",
       "    </tr>\n",
       "  </tbody>\n",
       "</table>\n",
       "<p>1836 rows × 3 columns</p>\n",
       "</div>"
      ],
      "text/plain": [
       "                 Model  Year  Fuel Barrels/Year\n",
       "32281  1-Ton Truck 2WD  1985          15.695714\n",
       "32282  1-Ton Truck 2WD  1985          15.695714\n",
       "32283  1-Ton Truck 2WD  1986          15.695714\n",
       "32284  1-Ton Truck 2WD  1986          14.330870\n",
       "32285  1-Ton Truck 2WD  1987          15.695714\n",
       "...                ...   ...                ...\n",
       "34112            Yaris  2016           9.988182\n",
       "34113            Yaris  2017          10.300313\n",
       "34114            Yaris  2017           9.988182\n",
       "34115         Yaris iA  2017           9.694412\n",
       "34116         Yaris iA  2017           9.417429\n",
       "\n",
       "[1836 rows x 3 columns]"
      ]
     },
     "execution_count": 142,
     "metadata": {},
     "output_type": "execute_result"
    }
   ],
   "source": [
    "########## Q4\n",
    "#Your code here\n",
    "\n",
    "# Get only the Toyota cars and the columns 'Make', 'Model', 'Year' and 'Fuel Barrels/Year' \n",
    "# and assign it to a variable -toyotas-\n",
    "toyotas = cars[cars.Make == 'Toyota'][['Model', 'Year','Fuel Barrels/Year']]\n",
    "toyotas"
   ]
  },
  {
   "cell_type": "code",
   "execution_count": 143,
   "metadata": {
    "colab": {
     "base_uri": "https://localhost:8080/"
    },
    "id": "q_Thw_GsAo05",
    "outputId": "313d643a-3e3c-4e1d-96f4-4c50be0c907c"
   },
   "outputs": [
    {
     "data": {
      "text/plain": [
       "16.153677357417322"
      ]
     },
     "execution_count": 143,
     "metadata": {},
     "output_type": "execute_result"
    }
   ],
   "source": [
    "# to make the Z Score: By definition Z Score=( data - sample mean )/(sample standar deviation)\n",
    "\n",
    "# to make the Z Score: get the mean for the 'Fuel Barrels/Year' and asign it to a new variable -fuelmean-\n",
    "fuelmean = toyotas['Fuel Barrels/Year'].mean()\n",
    "fuelmean"
   ]
  },
  {
   "cell_type": "code",
   "execution_count": 144,
   "metadata": {
    "colab": {
     "base_uri": "https://localhost:8080/"
    },
    "id": "ZAefin_aFiIW",
    "outputId": "883ee303-47ac-47f1-bdc0-3320d966182e"
   },
   "outputs": [
    {
     "data": {
      "text/plain": [
       "4.0871295932473535"
      ]
     },
     "execution_count": 144,
     "metadata": {},
     "output_type": "execute_result"
    }
   ],
   "source": [
    "# to make the Z Score: get the standar deviation for the 'Fuel Barrels/Year' and asign it to a new variable -fuelstd-\n",
    "fuelstd = toyotas['Fuel Barrels/Year'].std()\n",
    "fuelstd"
   ]
  },
  {
   "cell_type": "code",
   "execution_count": 145,
   "metadata": {
    "colab": {
     "base_uri": "https://localhost:8080/"
    },
    "id": "xhUWiCnEG3zb",
    "outputId": "7e6064ea-a0f6-461a-dde7-78806f8492fa"
   },
   "outputs": [
    {
     "data": {
      "text/plain": [
       "32281   -0.112050\n",
       "32282   -0.112050\n",
       "32283   -0.112050\n",
       "32284   -0.445987\n",
       "32285   -0.112050\n",
       "           ...   \n",
       "34112   -1.508515\n",
       "34113   -1.432146\n",
       "34114   -1.508515\n",
       "34115   -1.580392\n",
       "34116   -1.648161\n",
       "Name: Fuel Barrels/Year, Length: 1836, dtype: float64"
      ]
     },
     "execution_count": 145,
     "metadata": {},
     "output_type": "execute_result"
    }
   ],
   "source": [
    "# to make the Z Score: we use the items from Zscore=(('Fuel Barrels/Year')-(fuel mean))/(fuel standar deviation)\n",
    "zfuel = ( toyotas['Fuel Barrels/Year']-fuelmean )/fuelstd\n",
    "zfuel"
   ]
  },
  {
   "cell_type": "code",
   "execution_count": 146,
   "metadata": {
    "id": "8yD-LALjrB2e"
   },
   "outputs": [
    {
     "data": {
      "text/html": [
       "<div>\n",
       "<style scoped>\n",
       "    .dataframe tbody tr th:only-of-type {\n",
       "        vertical-align: middle;\n",
       "    }\n",
       "\n",
       "    .dataframe tbody tr th {\n",
       "        vertical-align: top;\n",
       "    }\n",
       "\n",
       "    .dataframe thead th {\n",
       "        text-align: right;\n",
       "    }\n",
       "</style>\n",
       "<table border=\"1\" class=\"dataframe\">\n",
       "  <thead>\n",
       "    <tr style=\"text-align: right;\">\n",
       "      <th></th>\n",
       "      <th>Model</th>\n",
       "      <th>Year</th>\n",
       "      <th>Fuel Barrels/Year</th>\n",
       "      <th>ZScore</th>\n",
       "    </tr>\n",
       "  </thead>\n",
       "  <tbody>\n",
       "    <tr>\n",
       "      <th>32281</th>\n",
       "      <td>1-Ton Truck 2WD</td>\n",
       "      <td>1985</td>\n",
       "      <td>15.695714</td>\n",
       "      <td>-0.112050</td>\n",
       "    </tr>\n",
       "    <tr>\n",
       "      <th>32282</th>\n",
       "      <td>1-Ton Truck 2WD</td>\n",
       "      <td>1985</td>\n",
       "      <td>15.695714</td>\n",
       "      <td>-0.112050</td>\n",
       "    </tr>\n",
       "    <tr>\n",
       "      <th>32283</th>\n",
       "      <td>1-Ton Truck 2WD</td>\n",
       "      <td>1986</td>\n",
       "      <td>15.695714</td>\n",
       "      <td>-0.112050</td>\n",
       "    </tr>\n",
       "    <tr>\n",
       "      <th>32284</th>\n",
       "      <td>1-Ton Truck 2WD</td>\n",
       "      <td>1986</td>\n",
       "      <td>14.330870</td>\n",
       "      <td>-0.445987</td>\n",
       "    </tr>\n",
       "    <tr>\n",
       "      <th>32285</th>\n",
       "      <td>1-Ton Truck 2WD</td>\n",
       "      <td>1987</td>\n",
       "      <td>15.695714</td>\n",
       "      <td>-0.112050</td>\n",
       "    </tr>\n",
       "    <tr>\n",
       "      <th>...</th>\n",
       "      <td>...</td>\n",
       "      <td>...</td>\n",
       "      <td>...</td>\n",
       "      <td>...</td>\n",
       "    </tr>\n",
       "    <tr>\n",
       "      <th>34112</th>\n",
       "      <td>Yaris</td>\n",
       "      <td>2016</td>\n",
       "      <td>9.988182</td>\n",
       "      <td>-1.508515</td>\n",
       "    </tr>\n",
       "    <tr>\n",
       "      <th>34113</th>\n",
       "      <td>Yaris</td>\n",
       "      <td>2017</td>\n",
       "      <td>10.300313</td>\n",
       "      <td>-1.432146</td>\n",
       "    </tr>\n",
       "    <tr>\n",
       "      <th>34114</th>\n",
       "      <td>Yaris</td>\n",
       "      <td>2017</td>\n",
       "      <td>9.988182</td>\n",
       "      <td>-1.508515</td>\n",
       "    </tr>\n",
       "    <tr>\n",
       "      <th>34115</th>\n",
       "      <td>Yaris iA</td>\n",
       "      <td>2017</td>\n",
       "      <td>9.694412</td>\n",
       "      <td>-1.580392</td>\n",
       "    </tr>\n",
       "    <tr>\n",
       "      <th>34116</th>\n",
       "      <td>Yaris iA</td>\n",
       "      <td>2017</td>\n",
       "      <td>9.417429</td>\n",
       "      <td>-1.648161</td>\n",
       "    </tr>\n",
       "  </tbody>\n",
       "</table>\n",
       "<p>1836 rows × 4 columns</p>\n",
       "</div>"
      ],
      "text/plain": [
       "                 Model  Year  Fuel Barrels/Year    ZScore\n",
       "32281  1-Ton Truck 2WD  1985          15.695714 -0.112050\n",
       "32282  1-Ton Truck 2WD  1985          15.695714 -0.112050\n",
       "32283  1-Ton Truck 2WD  1986          15.695714 -0.112050\n",
       "32284  1-Ton Truck 2WD  1986          14.330870 -0.445987\n",
       "32285  1-Ton Truck 2WD  1987          15.695714 -0.112050\n",
       "...                ...   ...                ...       ...\n",
       "34112            Yaris  2016           9.988182 -1.508515\n",
       "34113            Yaris  2017          10.300313 -1.432146\n",
       "34114            Yaris  2017           9.988182 -1.508515\n",
       "34115         Yaris iA  2017           9.694412 -1.580392\n",
       "34116         Yaris iA  2017           9.417429 -1.648161\n",
       "\n",
       "[1836 rows x 4 columns]"
      ]
     },
     "execution_count": 146,
     "metadata": {},
     "output_type": "execute_result"
    }
   ],
   "source": [
    "# Create a new colum on the df -toyotas- called 'ZScore' with the -zfuel- list items\n",
    "toyotas['ZScore']=zfuel\n",
    "toyotas"
   ]
  },
  {
   "cell_type": "code",
   "execution_count": 147,
   "metadata": {
    "colab": {
     "base_uri": "https://localhost:8080/",
     "height": 328
    },
    "id": "QzpM30BaI0pH",
    "outputId": "593b2c40-4fbf-4169-e141-cb55bddb121b"
   },
   "outputs": [
    {
     "data": {
      "text/html": [
       "<div>\n",
       "<style scoped>\n",
       "    .dataframe tbody tr th:only-of-type {\n",
       "        vertical-align: middle;\n",
       "    }\n",
       "\n",
       "    .dataframe tbody tr th {\n",
       "        vertical-align: top;\n",
       "    }\n",
       "\n",
       "    .dataframe thead th {\n",
       "        text-align: right;\n",
       "    }\n",
       "</style>\n",
       "<table border=\"1\" class=\"dataframe\">\n",
       "  <thead>\n",
       "    <tr style=\"text-align: right;\">\n",
       "      <th></th>\n",
       "      <th>Model</th>\n",
       "      <th>Year</th>\n",
       "      <th>Fuel Barrels/Year</th>\n",
       "      <th>ZScore</th>\n",
       "    </tr>\n",
       "  </thead>\n",
       "  <tbody>\n",
       "    <tr>\n",
       "      <th>32481</th>\n",
       "      <td>Cab/Chassis 2WD</td>\n",
       "      <td>1993</td>\n",
       "      <td>32.961000</td>\n",
       "      <td>4.112256</td>\n",
       "    </tr>\n",
       "    <tr>\n",
       "      <th>32479</th>\n",
       "      <td>Cab/Chassis 2WD</td>\n",
       "      <td>1992</td>\n",
       "      <td>32.961000</td>\n",
       "      <td>4.112256</td>\n",
       "    </tr>\n",
       "    <tr>\n",
       "      <th>32477</th>\n",
       "      <td>Cab/Chassis 2WD</td>\n",
       "      <td>1991</td>\n",
       "      <td>32.961000</td>\n",
       "      <td>4.112256</td>\n",
       "    </tr>\n",
       "    <tr>\n",
       "      <th>32475</th>\n",
       "      <td>Cab/Chassis 2WD</td>\n",
       "      <td>1990</td>\n",
       "      <td>32.961000</td>\n",
       "      <td>4.112256</td>\n",
       "    </tr>\n",
       "    <tr>\n",
       "      <th>32473</th>\n",
       "      <td>Cab/Chassis 2WD</td>\n",
       "      <td>1989</td>\n",
       "      <td>32.961000</td>\n",
       "      <td>4.112256</td>\n",
       "    </tr>\n",
       "    <tr>\n",
       "      <th>32600</th>\n",
       "      <td>Camry CNG</td>\n",
       "      <td>1999</td>\n",
       "      <td>0.080870</td>\n",
       "      <td>-3.932542</td>\n",
       "    </tr>\n",
       "    <tr>\n",
       "      <th>32602</th>\n",
       "      <td>Camry CNG</td>\n",
       "      <td>2001</td>\n",
       "      <td>0.084545</td>\n",
       "      <td>-3.931642</td>\n",
       "    </tr>\n",
       "    <tr>\n",
       "      <th>32601</th>\n",
       "      <td>Camry CNG</td>\n",
       "      <td>2000</td>\n",
       "      <td>0.084545</td>\n",
       "      <td>-3.931642</td>\n",
       "    </tr>\n",
       "    <tr>\n",
       "      <th>32482</th>\n",
       "      <td>Cab/Chassis 2WD</td>\n",
       "      <td>1993</td>\n",
       "      <td>29.964545</td>\n",
       "      <td>3.379112</td>\n",
       "    </tr>\n",
       "  </tbody>\n",
       "</table>\n",
       "</div>"
      ],
      "text/plain": [
       "                 Model  Year  Fuel Barrels/Year    ZScore\n",
       "32481  Cab/Chassis 2WD  1993          32.961000  4.112256\n",
       "32479  Cab/Chassis 2WD  1992          32.961000  4.112256\n",
       "32477  Cab/Chassis 2WD  1991          32.961000  4.112256\n",
       "32475  Cab/Chassis 2WD  1990          32.961000  4.112256\n",
       "32473  Cab/Chassis 2WD  1989          32.961000  4.112256\n",
       "32600        Camry CNG  1999           0.080870 -3.932542\n",
       "32602        Camry CNG  2001           0.084545 -3.931642\n",
       "32601        Camry CNG  2000           0.084545 -3.931642\n",
       "32482  Cab/Chassis 2WD  1993          29.964545  3.379112"
      ]
     },
     "execution_count": 147,
     "metadata": {},
     "output_type": "execute_result"
    }
   ],
   "source": [
    "# sort the values first for 'ZScore' ascending in absolutes and then for 'Year' descending,\n",
    "# then show only the first 9 rows\n",
    "toyotopz = toyotas.sort_values(['ZScore','Year'],ascending=[False,False],key=abs).head(9)\n",
    "#**toyotopz = toyotas[['Model','ZScore','Year']].head(15)\n",
    "toyotopz"
   ]
  },
  {
   "cell_type": "code",
   "execution_count": 148,
   "metadata": {
    "id": "MxLQtl6zurvv"
   },
   "outputs": [
    {
     "data": {
      "text/plain": [
       "[['Cab/Chassis 2WD', 1993, 4.1122558654247925],\n",
       " ['Cab/Chassis 2WD', 1992, 4.1122558654247925],\n",
       " ['Cab/Chassis 2WD', 1991, 4.1122558654247925],\n",
       " ['Cab/Chassis 2WD', 1990, 4.1122558654247925],\n",
       " ['Cab/Chassis 2WD', 1989, 4.1122558654247925],\n",
       " ['Camry CNG', 1999, -3.932541757118491],\n",
       " ['Camry CNG', 2001, -3.9316423754756538],\n",
       " ['Camry CNG', 2000, -3.9316423754756538],\n",
       " ['Cab/Chassis 2WD', 1993, 3.3791118637260937]]"
      ]
     },
     "execution_count": 148,
     "metadata": {},
     "output_type": "execute_result"
    }
   ],
   "source": [
    "# Show only the 'Model', 'Year' and 'ZScore' columns\n",
    "# and assign the result to the variable -Q4- with values as list\n",
    "Q4 = toyotopz[['Model','Year','ZScore']].values.tolist()\n",
    "Q4"
   ]
  },
  {
   "cell_type": "markdown",
   "metadata": {
    "id": "7eCpEljJnXzt"
   },
   "source": [
    "## Q5. Calculate the changes in Combined MPG with their previous model of all Golf cars with Manual 5-spd transmission and Regular Fuel Type. Show the Year, the Combined MPG and the calculated difference of MPG in a list sorted by Year in ascending order.\n",
    "\n",
    "##### Format: A 19X3 list, with the Year and Combined MPG being of type integer **and only the calculated difference is of type float**\n",
    "##### **Note: The value for the first model should be 0.** It does not matter that there are gaps in the years, calculate with respect the previous model.\n",
    "\n",
    "##### Example answer:\n",
    "\n",
    "\n",
    "\n",
    "```\n",
    "[[1986, 25, 0.0],\n",
    " [1987, 25, 0.0],\n",
    " [1988, 25, 0.0],\n",
    " [1989, 25, 0.0],\n",
    " [1990, 23, -2.0],\n",
    " [1991, 23, 0.0],\n",
    " [1992, 24, 1.0],\n",
    " [1993, 25, 1.0],\n",
    " [1994, 25, 0.0],\n",
    " [1995, 25, 0.0],\n",
    " [1996, 25, 0.0],\n",
    " [1997, 25, 0.0],\n",
    " [1998, 24, -1.0],\n",
    " [1999, 25, 1.0],\n",
    " [2000, 24, -1.0],\n",
    " [2001, 24, 0.0],\n",
    " [2002, 24, 0.0],\n",
    " [2004, 24, 0.0],\n",
    " [2006, 24, 0.0]]\n",
    "```\n",
    "\n",
    "\n",
    "\n"
   ]
  },
  {
   "cell_type": "code",
   "execution_count": 121,
   "metadata": {
    "colab": {
     "base_uri": "https://localhost:8080/",
     "height": 419
    },
    "id": "lMlKfEWUH3S9",
    "outputId": "dd63c04d-dcff-4532-d717-65654d8c325a"
   },
   "outputs": [
    {
     "data": {
      "text/html": [
       "<div>\n",
       "<style scoped>\n",
       "    .dataframe tbody tr th:only-of-type {\n",
       "        vertical-align: middle;\n",
       "    }\n",
       "\n",
       "    .dataframe tbody tr th {\n",
       "        vertical-align: top;\n",
       "    }\n",
       "\n",
       "    .dataframe thead th {\n",
       "        text-align: right;\n",
       "    }\n",
       "</style>\n",
       "<table border=\"1\" class=\"dataframe\">\n",
       "  <thead>\n",
       "    <tr style=\"text-align: right;\">\n",
       "      <th></th>\n",
       "      <th>Year</th>\n",
       "      <th>Transmission</th>\n",
       "      <th>Fuel Type</th>\n",
       "      <th>Combined MPG</th>\n",
       "    </tr>\n",
       "  </thead>\n",
       "  <tbody>\n",
       "    <tr>\n",
       "      <th>34367</th>\n",
       "      <td>1986</td>\n",
       "      <td>Manual 5-spd</td>\n",
       "      <td>Diesel</td>\n",
       "      <td>35</td>\n",
       "    </tr>\n",
       "    <tr>\n",
       "      <th>34368</th>\n",
       "      <td>1986</td>\n",
       "      <td>Automatic 3-spd</td>\n",
       "      <td>Regular</td>\n",
       "      <td>22</td>\n",
       "    </tr>\n",
       "    <tr>\n",
       "      <th>34369</th>\n",
       "      <td>1986</td>\n",
       "      <td>Manual 5-spd</td>\n",
       "      <td>Regular</td>\n",
       "      <td>26</td>\n",
       "    </tr>\n",
       "    <tr>\n",
       "      <th>34370</th>\n",
       "      <td>1987</td>\n",
       "      <td>Manual 5-spd</td>\n",
       "      <td>Diesel</td>\n",
       "      <td>33</td>\n",
       "    </tr>\n",
       "    <tr>\n",
       "      <th>34371</th>\n",
       "      <td>1987</td>\n",
       "      <td>Automatic 3-spd</td>\n",
       "      <td>Regular</td>\n",
       "      <td>22</td>\n",
       "    </tr>\n",
       "    <tr>\n",
       "      <th>...</th>\n",
       "      <td>...</td>\n",
       "      <td>...</td>\n",
       "      <td>...</td>\n",
       "      <td>...</td>\n",
       "    </tr>\n",
       "    <tr>\n",
       "      <th>34434</th>\n",
       "      <td>2015</td>\n",
       "      <td>Manual 6-spd</td>\n",
       "      <td>Diesel</td>\n",
       "      <td>36</td>\n",
       "    </tr>\n",
       "    <tr>\n",
       "      <th>34435</th>\n",
       "      <td>2016</td>\n",
       "      <td>Automatic (S6)</td>\n",
       "      <td>Regular</td>\n",
       "      <td>29</td>\n",
       "    </tr>\n",
       "    <tr>\n",
       "      <th>34436</th>\n",
       "      <td>2016</td>\n",
       "      <td>Manual 5-spd</td>\n",
       "      <td>Regular</td>\n",
       "      <td>30</td>\n",
       "    </tr>\n",
       "    <tr>\n",
       "      <th>34437</th>\n",
       "      <td>2017</td>\n",
       "      <td>Automatic (S6)</td>\n",
       "      <td>Regular</td>\n",
       "      <td>29</td>\n",
       "    </tr>\n",
       "    <tr>\n",
       "      <th>34438</th>\n",
       "      <td>2017</td>\n",
       "      <td>Manual 5-spd</td>\n",
       "      <td>Regular</td>\n",
       "      <td>29</td>\n",
       "    </tr>\n",
       "  </tbody>\n",
       "</table>\n",
       "<p>72 rows × 4 columns</p>\n",
       "</div>"
      ],
      "text/plain": [
       "       Year     Transmission Fuel Type  Combined MPG\n",
       "34367  1986     Manual 5-spd    Diesel            35\n",
       "34368  1986  Automatic 3-spd   Regular            22\n",
       "34369  1986     Manual 5-spd   Regular            26\n",
       "34370  1987     Manual 5-spd    Diesel            33\n",
       "34371  1987  Automatic 3-spd   Regular            22\n",
       "...     ...              ...       ...           ...\n",
       "34434  2015     Manual 6-spd    Diesel            36\n",
       "34435  2016   Automatic (S6)   Regular            29\n",
       "34436  2016     Manual 5-spd   Regular            30\n",
       "34437  2017   Automatic (S6)   Regular            29\n",
       "34438  2017     Manual 5-spd   Regular            29\n",
       "\n",
       "[72 rows x 4 columns]"
      ]
     },
     "execution_count": 121,
     "metadata": {},
     "output_type": "execute_result"
    }
   ],
   "source": [
    "########## Q5\n",
    "#Your code here\n",
    "# Get only the Golf rows from 'Model' column and show only the columns 'Year', 'Tranmission', 'Fuel Type' \n",
    "# and 'Combined MPG' And assign it to a new df -golfs-\n",
    "golfs = cars[cars.Model == 'Golf'][['Year', 'Transmission','Fuel Type','Combined MPG']]\n",
    "golfs"
   ]
  },
  {
   "cell_type": "code",
   "execution_count": 122,
   "metadata": {
    "colab": {
     "base_uri": "https://localhost:8080/",
     "height": 142
    },
    "id": "3yX4lE2TjXwU",
    "outputId": "c921c789-64da-49f1-9310-07cc9b3d26fa"
   },
   "outputs": [
    {
     "data": {
      "text/html": [
       "<div>\n",
       "<style scoped>\n",
       "    .dataframe tbody tr th:only-of-type {\n",
       "        vertical-align: middle;\n",
       "    }\n",
       "\n",
       "    .dataframe tbody tr th {\n",
       "        vertical-align: top;\n",
       "    }\n",
       "\n",
       "    .dataframe thead th {\n",
       "        text-align: right;\n",
       "    }\n",
       "</style>\n",
       "<table border=\"1\" class=\"dataframe\">\n",
       "  <thead>\n",
       "    <tr style=\"text-align: right;\">\n",
       "      <th></th>\n",
       "      <th>Year</th>\n",
       "      <th>Fuel Type</th>\n",
       "      <th>Combined MPG</th>\n",
       "    </tr>\n",
       "  </thead>\n",
       "  <tbody>\n",
       "    <tr>\n",
       "      <th>34367</th>\n",
       "      <td>1986</td>\n",
       "      <td>Diesel</td>\n",
       "      <td>35</td>\n",
       "    </tr>\n",
       "    <tr>\n",
       "      <th>34369</th>\n",
       "      <td>1986</td>\n",
       "      <td>Regular</td>\n",
       "      <td>26</td>\n",
       "    </tr>\n",
       "    <tr>\n",
       "      <th>34370</th>\n",
       "      <td>1987</td>\n",
       "      <td>Diesel</td>\n",
       "      <td>33</td>\n",
       "    </tr>\n",
       "  </tbody>\n",
       "</table>\n",
       "</div>"
      ],
      "text/plain": [
       "       Year Fuel Type  Combined MPG\n",
       "34367  1986    Diesel            35\n",
       "34369  1986   Regular            26\n",
       "34370  1987    Diesel            33"
      ]
     },
     "execution_count": 122,
     "metadata": {},
     "output_type": "execute_result"
    }
   ],
   "source": [
    "# From the DF -golfs- get only the 'Manual 5-spd' rows from column 'Transmission', show the column 'Year', \n",
    "# 'Fuel Type' and 'C MPG' And Assign it to a new DF -golfsManual-\n",
    "golfsManual = golfs[golfs.Transmission == 'Manual 5-spd'][['Year','Fuel Type','Combined MPG']]\n",
    "golfsManual.head(3)"
   ]
  },
  {
   "cell_type": "code",
   "execution_count": 124,
   "metadata": {
    "colab": {
     "base_uri": "https://localhost:8080/",
     "height": 638
    },
    "id": "YUSLJYiSkzzb",
    "outputId": "98ee5c5f-5397-44d9-b483-ce0775d84150"
   },
   "outputs": [
    {
     "data": {
      "text/html": [
       "<div>\n",
       "<style scoped>\n",
       "    .dataframe tbody tr th:only-of-type {\n",
       "        vertical-align: middle;\n",
       "    }\n",
       "\n",
       "    .dataframe tbody tr th {\n",
       "        vertical-align: top;\n",
       "    }\n",
       "\n",
       "    .dataframe thead th {\n",
       "        text-align: right;\n",
       "    }\n",
       "</style>\n",
       "<table border=\"1\" class=\"dataframe\">\n",
       "  <thead>\n",
       "    <tr style=\"text-align: right;\">\n",
       "      <th></th>\n",
       "      <th>Year</th>\n",
       "      <th>Combined MPG</th>\n",
       "    </tr>\n",
       "  </thead>\n",
       "  <tbody>\n",
       "    <tr>\n",
       "      <th>34369</th>\n",
       "      <td>1986</td>\n",
       "      <td>26</td>\n",
       "    </tr>\n",
       "    <tr>\n",
       "      <th>34372</th>\n",
       "      <td>1987</td>\n",
       "      <td>26</td>\n",
       "    </tr>\n",
       "    <tr>\n",
       "      <th>34374</th>\n",
       "      <td>1988</td>\n",
       "      <td>25</td>\n",
       "    </tr>\n",
       "  </tbody>\n",
       "</table>\n",
       "</div>"
      ],
      "text/plain": [
       "       Year  Combined MPG\n",
       "34369  1986            26\n",
       "34372  1987            26\n",
       "34374  1988            25"
      ]
     },
     "execution_count": 124,
     "metadata": {},
     "output_type": "execute_result"
    }
   ],
   "source": [
    "# From the DF -golfsManual- get only the 'Regular' rows from column 'Fuel Type', show the column 'Year' and 'C MPG'\n",
    "# Sort years ascending and assign it to a new DF -golfsMR-\n",
    "golfsMR = golfsManual[golfsManual['Fuel Type']=='Regular'][['Year','Combined MPG']].sort_values('Year')\n",
    "golfsMR.head(3)"
   ]
  },
  {
   "cell_type": "code",
   "execution_count": 128,
   "metadata": {
    "colab": {
     "base_uri": "https://localhost:8080/"
    },
    "id": "glfy0T8WmTG0",
    "outputId": "a99f71d4-82a6-40c0-a233-6a17e466bdbd"
   },
   "outputs": [
    {
     "data": {
      "text/plain": [
       "[26, 26, 25, 25, 24, 24, 24, 24, 24, 24, 24, 24, 25, 26, 26, 26, 30, 30, 29]"
      ]
     },
     "execution_count": 128,
     "metadata": {},
     "output_type": "execute_result"
    }
   ],
   "source": [
    "# To create the 'Combined MPG' difference with the previous model:\n",
    "# Create a list -CMPG- from all the items from the column 'Combined MPG'\n",
    "CMPG = list( golfsMR['Combined MPG'] )\n",
    "CMPG"
   ]
  },
  {
   "cell_type": "code",
   "execution_count": 129,
   "metadata": {
    "colab": {
     "base_uri": "https://localhost:8080/"
    },
    "id": "4N-_3gZlm8Fa",
    "outputId": "da186a68-7292-4386-a13e-101da2056503"
   },
   "outputs": [
    {
     "data": {
      "text/plain": [
       "[0, 0, -1, 0, -1, 0, 0, 0, 0, 0, 0, 0, 1, 1, 0, 0, 4, 0, -1]"
      ]
     },
     "execution_count": 129,
     "metadata": {},
     "output_type": "execute_result"
    }
   ],
   "source": [
    "# We need to calculated the difference of MPG list, item 1 minus item 0, item 2 minus item 1 and so on, for this:\n",
    "# Create a new list -diff- with the first value as 0, \n",
    "# run a While loop to append the difference with items from the Combined MPG list\n",
    "\n",
    "diff = [0] #index 0 is always 0 since it has no other item to be compared\n",
    "i=1\n",
    "while i<len(CMPG):\n",
    "  i+=1\n",
    "  diff.append(CMPG[i-1] - CMPG[i-2])\n",
    "diff"
   ]
  },
  {
   "cell_type": "code",
   "execution_count": 130,
   "metadata": {
    "colab": {
     "base_uri": "https://localhost:8080/",
     "height": 204
    },
    "id": "Ni4xMv5ivYx8",
    "outputId": "0ace6198-5f1e-4490-ad4e-a323124340a6"
   },
   "outputs": [
    {
     "data": {
      "text/html": [
       "<div>\n",
       "<style scoped>\n",
       "    .dataframe tbody tr th:only-of-type {\n",
       "        vertical-align: middle;\n",
       "    }\n",
       "\n",
       "    .dataframe tbody tr th {\n",
       "        vertical-align: top;\n",
       "    }\n",
       "\n",
       "    .dataframe thead th {\n",
       "        text-align: right;\n",
       "    }\n",
       "</style>\n",
       "<table border=\"1\" class=\"dataframe\">\n",
       "  <thead>\n",
       "    <tr style=\"text-align: right;\">\n",
       "      <th></th>\n",
       "      <th>Year</th>\n",
       "      <th>Combined MPG</th>\n",
       "      <th>MPG Difference</th>\n",
       "    </tr>\n",
       "  </thead>\n",
       "  <tbody>\n",
       "    <tr>\n",
       "      <th>34369</th>\n",
       "      <td>1986</td>\n",
       "      <td>26</td>\n",
       "      <td>0</td>\n",
       "    </tr>\n",
       "    <tr>\n",
       "      <th>34372</th>\n",
       "      <td>1987</td>\n",
       "      <td>26</td>\n",
       "      <td>0</td>\n",
       "    </tr>\n",
       "    <tr>\n",
       "      <th>34374</th>\n",
       "      <td>1988</td>\n",
       "      <td>25</td>\n",
       "      <td>-1</td>\n",
       "    </tr>\n",
       "    <tr>\n",
       "      <th>34377</th>\n",
       "      <td>1989</td>\n",
       "      <td>25</td>\n",
       "      <td>0</td>\n",
       "    </tr>\n",
       "    <tr>\n",
       "      <th>34379</th>\n",
       "      <td>1999</td>\n",
       "      <td>24</td>\n",
       "      <td>-1</td>\n",
       "    </tr>\n",
       "  </tbody>\n",
       "</table>\n",
       "</div>"
      ],
      "text/plain": [
       "       Year  Combined MPG  MPG Difference\n",
       "34369  1986            26               0\n",
       "34372  1987            26               0\n",
       "34374  1988            25              -1\n",
       "34377  1989            25               0\n",
       "34379  1999            24              -1"
      ]
     },
     "execution_count": 130,
     "metadata": {},
     "output_type": "execute_result"
    }
   ],
   "source": [
    "# Create a new column 'MPG Difference' into the dataframe -golfsMR- using the items from the -diff- list\n",
    "golfsMR['MPG Difference']=diff\n",
    "golfsMR.head(5)"
   ]
  },
  {
   "cell_type": "code",
   "execution_count": 131,
   "metadata": {
    "colab": {
     "base_uri": "https://localhost:8080/"
    },
    "id": "fgUgLhLoCu3_",
    "outputId": "3f97f5dd-b896-4457-a407-0cff52e7d780"
   },
   "outputs": [
    {
     "name": "stdout",
     "output_type": "stream",
     "text": [
      "<class 'pandas.core.frame.DataFrame'>\n",
      "Int64Index: 19 entries, 34369 to 34438\n",
      "Data columns (total 3 columns):\n",
      " #   Column          Non-Null Count  Dtype\n",
      "---  ------          --------------  -----\n",
      " 0   Year            19 non-null     int64\n",
      " 1   Combined MPG    19 non-null     int64\n",
      " 2   MPG Difference  19 non-null     int64\n",
      "dtypes: int64(3)\n",
      "memory usage: 608.0 bytes\n"
     ]
    }
   ],
   "source": [
    "golfsMR.info() #verifying the datatype for the columns, we need 'Combined MPG' to be floats"
   ]
  },
  {
   "cell_type": "code",
   "execution_count": 132,
   "metadata": {
    "colab": {
     "base_uri": "https://localhost:8080/"
    },
    "id": "De07dkfo01M6",
    "outputId": "5b98fe2c-8a2e-4dc6-caf9-100be5086d93"
   },
   "outputs": [
    {
     "data": {
      "text/plain": [
       "34369    0.0\n",
       "34372    0.0\n",
       "34374   -1.0\n",
       "34377    0.0\n",
       "34379   -1.0\n",
       "34385    0.0\n",
       "34391    0.0\n",
       "34395    0.0\n",
       "34399    0.0\n",
       "34403    0.0\n",
       "34407    0.0\n",
       "34411    0.0\n",
       "34412    1.0\n",
       "34417    1.0\n",
       "34421    0.0\n",
       "34427    0.0\n",
       "34431    4.0\n",
       "34436    0.0\n",
       "34438   -1.0\n",
       "Name: MPG Difference, dtype: float64"
      ]
     },
     "execution_count": 132,
     "metadata": {},
     "output_type": "execute_result"
    }
   ],
   "source": [
    "# To Turn the 'MPG Difference' items to floats:\n",
    "# Iterate the colum 'MPG Difference' with a lamba function to turn each int into a float\n",
    "# And add the result series into a variable -itemsToFlo-\n",
    "\n",
    "lam = lambda x: float(x)\n",
    "itemsToFlo = golfsMR['MPG Difference'].apply(lam) \n",
    "itemsToFlo"
   ]
  },
  {
   "cell_type": "code",
   "execution_count": 133,
   "metadata": {
    "colab": {
     "base_uri": "https://localhost:8080/",
     "height": 142
    },
    "id": "jTAWwEQv5STE",
    "outputId": "08abc75f-709b-4f09-9025-da9febd58720"
   },
   "outputs": [
    {
     "data": {
      "text/html": [
       "<div>\n",
       "<style scoped>\n",
       "    .dataframe tbody tr th:only-of-type {\n",
       "        vertical-align: middle;\n",
       "    }\n",
       "\n",
       "    .dataframe tbody tr th {\n",
       "        vertical-align: top;\n",
       "    }\n",
       "\n",
       "    .dataframe thead th {\n",
       "        text-align: right;\n",
       "    }\n",
       "</style>\n",
       "<table border=\"1\" class=\"dataframe\">\n",
       "  <thead>\n",
       "    <tr style=\"text-align: right;\">\n",
       "      <th></th>\n",
       "      <th>Year</th>\n",
       "      <th>Combined MPG</th>\n",
       "      <th>MPG Difference</th>\n",
       "    </tr>\n",
       "  </thead>\n",
       "  <tbody>\n",
       "    <tr>\n",
       "      <th>34369</th>\n",
       "      <td>1986</td>\n",
       "      <td>26</td>\n",
       "      <td>0.0</td>\n",
       "    </tr>\n",
       "    <tr>\n",
       "      <th>34372</th>\n",
       "      <td>1987</td>\n",
       "      <td>26</td>\n",
       "      <td>0.0</td>\n",
       "    </tr>\n",
       "    <tr>\n",
       "      <th>34374</th>\n",
       "      <td>1988</td>\n",
       "      <td>25</td>\n",
       "      <td>-1.0</td>\n",
       "    </tr>\n",
       "  </tbody>\n",
       "</table>\n",
       "</div>"
      ],
      "text/plain": [
       "       Year  Combined MPG  MPG Difference\n",
       "34369  1986            26             0.0\n",
       "34372  1987            26             0.0\n",
       "34374  1988            25            -1.0"
      ]
     },
     "execution_count": 133,
     "metadata": {},
     "output_type": "execute_result"
    }
   ],
   "source": [
    "# Change the colum items from 'MPG Difference' for the items in -itemsToFlo-\n",
    "golfsMR['MPG Difference']=itemsToFlo\n",
    "golfsMR.head(3)"
   ]
  },
  {
   "cell_type": "code",
   "execution_count": 149,
   "metadata": {
    "colab": {
     "base_uri": "https://localhost:8080/"
    },
    "id": "1xbmikEyDdgS",
    "outputId": "28fe1831-5606-4780-c147-c810bbe30063"
   },
   "outputs": [
    {
     "name": "stdout",
     "output_type": "stream",
     "text": [
      "<class 'pandas.core.frame.DataFrame'>\n",
      "Int64Index: 19 entries, 34369 to 34438\n",
      "Data columns (total 3 columns):\n",
      " #   Column          Non-Null Count  Dtype  \n",
      "---  ------          --------------  -----  \n",
      " 0   Year            19 non-null     int64  \n",
      " 1   Combined MPG    19 non-null     int64  \n",
      " 2   MPG Difference  19 non-null     float64\n",
      "dtypes: float64(1), int64(2)\n",
      "memory usage: 608.0 bytes\n"
     ]
    }
   ],
   "source": [
    "golfsMR.info() #Verify the 'MPG Difference' are floats now and the other columns are integers"
   ]
  },
  {
   "cell_type": "code",
   "execution_count": 150,
   "metadata": {
    "colab": {
     "base_uri": "https://localhost:8080/"
    },
    "id": "kHlerlfpxsX-",
    "outputId": "57ffd1c6-35b4-4c02-d3dd-cae03a29e3dd"
   },
   "outputs": [
    {
     "data": {
      "text/plain": [
       "[[1986.0, 26.0, 0.0],\n",
       " [1987.0, 26.0, 0.0],\n",
       " [1988.0, 25.0, -1.0],\n",
       " [1989.0, 25.0, 0.0],\n",
       " [1999.0, 24.0, -1.0],\n",
       " [2000.0, 24.0, 0.0],\n",
       " [2001.0, 24.0, 0.0],\n",
       " [2002.0, 24.0, 0.0],\n",
       " [2003.0, 24.0, 0.0],\n",
       " [2004.0, 24.0, 0.0],\n",
       " [2005.0, 24.0, 0.0],\n",
       " [2006.0, 24.0, 0.0],\n",
       " [2010.0, 25.0, 1.0],\n",
       " [2011.0, 26.0, 1.0],\n",
       " [2012.0, 26.0, 0.0],\n",
       " [2013.0, 26.0, 0.0],\n",
       " [2015.0, 30.0, 4.0],\n",
       " [2016.0, 30.0, 0.0],\n",
       " [2017.0, 29.0, -1.0]]"
      ]
     },
     "execution_count": 150,
     "metadata": {},
     "output_type": "execute_result"
    }
   ],
   "source": [
    "# assign the result to the variable -Q5- with values as list\n",
    "Q5 = golfsMR.values.tolist()\n",
    "Q5 \n",
    "#WHY the list is showing all items as floats, even when the info() for the DF shows int and float? "
   ]
  },
  {
   "cell_type": "code",
   "execution_count": 151,
   "metadata": {
    "id": "PN1OoQpTu6s0"
   },
   "outputs": [],
   "source": [
    "#---Due to the tolist() showing all items as float for some reason---\n",
    "# Create a new list -resultlist- from all colums\n",
    "yearlist = list(golfsMR['Year'])\n",
    "coMPGlist = list(golfsMR['Combined MPG'])\n",
    "MPGDilist = list(golfsMR['MPG Difference'])"
   ]
  },
  {
   "cell_type": "code",
   "execution_count": 152,
   "metadata": {
    "colab": {
     "base_uri": "https://localhost:8080/"
    },
    "id": "Pn1nM7tQzBEm",
    "outputId": "1bf0b001-b1b5-4237-ea5a-374e4e764bd3"
   },
   "outputs": [
    {
     "data": {
      "text/plain": [
       "[[1986, 26, 0.0],\n",
       " [1987, 26, 0.0],\n",
       " [1988, 25, -1.0],\n",
       " [1989, 25, 0.0],\n",
       " [1999, 24, -1.0],\n",
       " [2000, 24, 0.0],\n",
       " [2001, 24, 0.0],\n",
       " [2002, 24, 0.0],\n",
       " [2003, 24, 0.0],\n",
       " [2004, 24, 0.0],\n",
       " [2005, 24, 0.0],\n",
       " [2006, 24, 0.0],\n",
       " [2010, 25, 1.0],\n",
       " [2011, 26, 1.0],\n",
       " [2012, 26, 0.0],\n",
       " [2013, 26, 0.0],\n",
       " [2015, 30, 4.0],\n",
       " [2016, 30, 0.0],\n",
       " [2017, 29, -1.0]]"
      ]
     },
     "execution_count": 152,
     "metadata": {},
     "output_type": "execute_result"
    }
   ],
   "source": [
    "# Use a while loop to create a new list for each other list taking the 1st item for all and so on\n",
    "# for the correct format for the input of the answer\n",
    "resultlist = []\n",
    "i=0\n",
    "while i<(len(yearlist)):\n",
    "  resultlist.append([yearlist[i],coMPGlist[i],MPGDilist[i]])\n",
    "  i+=1\n",
    "resultlist\n",
    "\n",
    "Q5 = resultlist\n",
    "Q5"
   ]
  },
  {
   "cell_type": "markdown",
   "metadata": {
    "id": "EnHdqUs-nagE"
   },
   "source": [
    "## Q6. What are the top 5 lowest CO2 Emission Grams/Mile emmisions of cars for each of the following brands: Toyota, Ford, Volkswagen, Nissan, Honda\n",
    "\n",
    "##### Format: A 5X6 list with the first element of each row being the Make of the cars and the following five values being floats sorted in ascending order. The Makes should appear in order listed in the question starting with Ford and ending with Volkswagen (see example).\n",
    "\n",
    "\n",
    "##### Example answer:\n",
    "\n",
    "```\n",
    "[['Toyota', 100.0, 140.0, 140.0, 150.0, 150.0],\n",
    " ['Ford',\n",
    "  100.025641025641,\n",
    "  200.677633075759575,\n",
    "  200.677633075759575,\n",
    "  200.677633075759575,\n",
    "  200.677633075759575],\n",
    " ['Volkswagen', 139.0, 154.0, 166.5, 166.5, 166.5],\n",
    " ['Nissan', 122.0, 122.0, 122.0, 122.0, 160.0],\n",
    " ['Honda', 100.0, 100.0, 100.0, 100.0, 123.91684618442447]]\n",
    "```\n",
    "\n",
    "\n",
    "\n",
    "\n"
   ]
  },
  {
   "cell_type": "code",
   "execution_count": 44,
   "metadata": {
    "id": "8KKg3bT6na41"
   },
   "outputs": [],
   "source": [
    "########## Q6\n",
    "#Your code here"
   ]
  },
  {
   "cell_type": "code",
   "execution_count": 153,
   "metadata": {
    "colab": {
     "base_uri": "https://localhost:8080/",
     "height": 450
    },
    "id": "_vvWxVtOQ7Bb",
    "outputId": "4366dbb8-04c4-42a7-d4ea-c8ad05151f82"
   },
   "outputs": [
    {
     "data": {
      "text/html": [
       "<div>\n",
       "<style scoped>\n",
       "    .dataframe tbody tr th:only-of-type {\n",
       "        vertical-align: middle;\n",
       "    }\n",
       "\n",
       "    .dataframe tbody tr th {\n",
       "        vertical-align: top;\n",
       "    }\n",
       "\n",
       "    .dataframe thead th {\n",
       "        text-align: right;\n",
       "    }\n",
       "</style>\n",
       "<table border=\"1\" class=\"dataframe\">\n",
       "  <thead>\n",
       "    <tr style=\"text-align: right;\">\n",
       "      <th></th>\n",
       "      <th>Make</th>\n",
       "      <th>CO2 Emission Grams/Mile</th>\n",
       "    </tr>\n",
       "  </thead>\n",
       "  <tbody>\n",
       "    <tr>\n",
       "      <th>0</th>\n",
       "      <td>Toyota</td>\n",
       "      <td>423.190476</td>\n",
       "    </tr>\n",
       "    <tr>\n",
       "      <th>1</th>\n",
       "      <td>Toyota</td>\n",
       "      <td>423.190476</td>\n",
       "    </tr>\n",
       "    <tr>\n",
       "      <th>2</th>\n",
       "      <td>Toyota</td>\n",
       "      <td>423.190476</td>\n",
       "    </tr>\n",
       "    <tr>\n",
       "      <th>3</th>\n",
       "      <td>Toyota</td>\n",
       "      <td>386.391304</td>\n",
       "    </tr>\n",
       "    <tr>\n",
       "      <th>4</th>\n",
       "      <td>Toyota</td>\n",
       "      <td>423.190476</td>\n",
       "    </tr>\n",
       "    <tr>\n",
       "      <th>...</th>\n",
       "      <td>...</td>\n",
       "      <td>...</td>\n",
       "    </tr>\n",
       "    <tr>\n",
       "      <th>7913</th>\n",
       "      <td>Honda</td>\n",
       "      <td>444.350000</td>\n",
       "    </tr>\n",
       "    <tr>\n",
       "      <th>7914</th>\n",
       "      <td>Honda</td>\n",
       "      <td>444.350000</td>\n",
       "    </tr>\n",
       "    <tr>\n",
       "      <th>7915</th>\n",
       "      <td>Honda</td>\n",
       "      <td>444.350000</td>\n",
       "    </tr>\n",
       "    <tr>\n",
       "      <th>7916</th>\n",
       "      <td>Honda</td>\n",
       "      <td>423.190476</td>\n",
       "    </tr>\n",
       "    <tr>\n",
       "      <th>7917</th>\n",
       "      <td>Honda</td>\n",
       "      <td>423.190476</td>\n",
       "    </tr>\n",
       "  </tbody>\n",
       "</table>\n",
       "<p>7918 rows × 2 columns</p>\n",
       "</div>"
      ],
      "text/plain": [
       "        Make  CO2 Emission Grams/Mile\n",
       "0     Toyota               423.190476\n",
       "1     Toyota               423.190476\n",
       "2     Toyota               423.190476\n",
       "3     Toyota               386.391304\n",
       "4     Toyota               423.190476\n",
       "...      ...                      ...\n",
       "7913   Honda               444.350000\n",
       "7914   Honda               444.350000\n",
       "7915   Honda               444.350000\n",
       "7916   Honda               423.190476\n",
       "7917   Honda               423.190476\n",
       "\n",
       "[7918 rows x 2 columns]"
      ]
     },
     "execution_count": 153,
     "metadata": {},
     "output_type": "execute_result"
    }
   ],
   "source": [
    "# Set the index to 'Make' to locate the Rows with the brands needed, and call the column 'CO2 Emission..'\n",
    "# And set it to a temporary df to a better code read -DF1- and then reset the index to a new DF -co2cars-\n",
    "DF1 = cars.set_index('Make').loc[['Toyota', 'Ford', 'Volkswagen', 'Nissan', 'Honda']]\n",
    "co2cars = DF1[['CO2 Emission Grams/Mile']].reset_index()\n",
    "co2cars"
   ]
  },
  {
   "cell_type": "code",
   "execution_count": 154,
   "metadata": {},
   "outputs": [
    {
     "data": {
      "text/plain": [
       "7918"
      ]
     },
     "execution_count": 154,
     "metadata": {},
     "output_type": "execute_result"
    }
   ],
   "source": [
    "##Create a while loop to create a subindex list to group all the -Make- items in the order requested.\n",
    "\n",
    "# 0 for Toyota, 1 for Ford, 2 for Volkswagen, 3 for 'Nissan' and 4 for 'Honda'\n",
    "# Create a list with a first value 0 then the loop will compare the Make items, if the subsecuent items are equal\n",
    "# the subindex will be the same number for both items (starting with 0), if are not equal then the index will be +1\n",
    "# this is difined by the variable j, only increases when the comparition is not equal, meaning the brand changed\n",
    "\n",
    "subind=[0]\n",
    "cont=[]\n",
    "i=0\n",
    "j=0\n",
    "while i<(len(co2cars.Make)-1):\n",
    "    if co2cars.Make[i+1]==co2cars.Make[i]:\n",
    "        subind.append(j)\n",
    "    else:\n",
    "        subind.append(j+1)\n",
    "        j+=1\n",
    "    i+=1\n",
    "\n",
    "len(subind) #the list is the same lenght as the curren items in -Make- column"
   ]
  },
  {
   "cell_type": "code",
   "execution_count": 155,
   "metadata": {},
   "outputs": [
    {
     "data": {
      "text/html": [
       "<div>\n",
       "<style scoped>\n",
       "    .dataframe tbody tr th:only-of-type {\n",
       "        vertical-align: middle;\n",
       "    }\n",
       "\n",
       "    .dataframe tbody tr th {\n",
       "        vertical-align: top;\n",
       "    }\n",
       "\n",
       "    .dataframe thead th {\n",
       "        text-align: right;\n",
       "    }\n",
       "</style>\n",
       "<table border=\"1\" class=\"dataframe\">\n",
       "  <thead>\n",
       "    <tr style=\"text-align: right;\">\n",
       "      <th></th>\n",
       "      <th>Make</th>\n",
       "      <th>CO2 Emission Grams/Mile</th>\n",
       "      <th>subindex</th>\n",
       "    </tr>\n",
       "  </thead>\n",
       "  <tbody>\n",
       "    <tr>\n",
       "      <th>0</th>\n",
       "      <td>Toyota</td>\n",
       "      <td>423.190476</td>\n",
       "      <td>0</td>\n",
       "    </tr>\n",
       "    <tr>\n",
       "      <th>1</th>\n",
       "      <td>Toyota</td>\n",
       "      <td>423.190476</td>\n",
       "      <td>0</td>\n",
       "    </tr>\n",
       "    <tr>\n",
       "      <th>2</th>\n",
       "      <td>Toyota</td>\n",
       "      <td>423.190476</td>\n",
       "      <td>0</td>\n",
       "    </tr>\n",
       "    <tr>\n",
       "      <th>3</th>\n",
       "      <td>Toyota</td>\n",
       "      <td>386.391304</td>\n",
       "      <td>0</td>\n",
       "    </tr>\n",
       "    <tr>\n",
       "      <th>4</th>\n",
       "      <td>Toyota</td>\n",
       "      <td>423.190476</td>\n",
       "      <td>0</td>\n",
       "    </tr>\n",
       "    <tr>\n",
       "      <th>...</th>\n",
       "      <td>...</td>\n",
       "      <td>...</td>\n",
       "      <td>...</td>\n",
       "    </tr>\n",
       "    <tr>\n",
       "      <th>7913</th>\n",
       "      <td>Honda</td>\n",
       "      <td>444.350000</td>\n",
       "      <td>4</td>\n",
       "    </tr>\n",
       "    <tr>\n",
       "      <th>7914</th>\n",
       "      <td>Honda</td>\n",
       "      <td>444.350000</td>\n",
       "      <td>4</td>\n",
       "    </tr>\n",
       "    <tr>\n",
       "      <th>7915</th>\n",
       "      <td>Honda</td>\n",
       "      <td>444.350000</td>\n",
       "      <td>4</td>\n",
       "    </tr>\n",
       "    <tr>\n",
       "      <th>7916</th>\n",
       "      <td>Honda</td>\n",
       "      <td>423.190476</td>\n",
       "      <td>4</td>\n",
       "    </tr>\n",
       "    <tr>\n",
       "      <th>7917</th>\n",
       "      <td>Honda</td>\n",
       "      <td>423.190476</td>\n",
       "      <td>4</td>\n",
       "    </tr>\n",
       "  </tbody>\n",
       "</table>\n",
       "<p>7918 rows × 3 columns</p>\n",
       "</div>"
      ],
      "text/plain": [
       "        Make  CO2 Emission Grams/Mile  subindex\n",
       "0     Toyota               423.190476         0\n",
       "1     Toyota               423.190476         0\n",
       "2     Toyota               423.190476         0\n",
       "3     Toyota               386.391304         0\n",
       "4     Toyota               423.190476         0\n",
       "...      ...                      ...       ...\n",
       "7913   Honda               444.350000         4\n",
       "7914   Honda               444.350000         4\n",
       "7915   Honda               444.350000         4\n",
       "7916   Honda               423.190476         4\n",
       "7917   Honda               423.190476         4\n",
       "\n",
       "[7918 rows x 3 columns]"
      ]
     },
     "execution_count": 155,
     "metadata": {},
     "output_type": "execute_result"
    }
   ],
   "source": [
    "# Create a new column 'subindex' and add the created -subind- list\n",
    "# All Toyoya have a subindex 0, All Ford have a subindex 1,... All Honda have a subindex 4\n",
    "\n",
    "co2cars['subindex']=subind\n",
    "co2cars"
   ]
  },
  {
   "cell_type": "code",
   "execution_count": 159,
   "metadata": {},
   "outputs": [
    {
     "data": {
      "text/html": [
       "<div>\n",
       "<style scoped>\n",
       "    .dataframe tbody tr th:only-of-type {\n",
       "        vertical-align: middle;\n",
       "    }\n",
       "\n",
       "    .dataframe tbody tr th {\n",
       "        vertical-align: top;\n",
       "    }\n",
       "\n",
       "    .dataframe thead th {\n",
       "        text-align: right;\n",
       "    }\n",
       "</style>\n",
       "<table border=\"1\" class=\"dataframe\">\n",
       "  <thead>\n",
       "    <tr style=\"text-align: right;\">\n",
       "      <th></th>\n",
       "      <th>subindex</th>\n",
       "      <th>Make</th>\n",
       "      <th>CO2 Emission Grams/Mile</th>\n",
       "    </tr>\n",
       "  </thead>\n",
       "  <tbody>\n",
       "    <tr>\n",
       "      <th>1000</th>\n",
       "      <td>0</td>\n",
       "      <td>Toyota</td>\n",
       "      <td>133.000000</td>\n",
       "    </tr>\n",
       "    <tr>\n",
       "      <th>1001</th>\n",
       "      <td>0</td>\n",
       "      <td>Toyota</td>\n",
       "      <td>133.000000</td>\n",
       "    </tr>\n",
       "    <tr>\n",
       "      <th>1002</th>\n",
       "      <td>0</td>\n",
       "      <td>Toyota</td>\n",
       "      <td>133.000000</td>\n",
       "    </tr>\n",
       "    <tr>\n",
       "      <th>1003</th>\n",
       "      <td>0</td>\n",
       "      <td>Toyota</td>\n",
       "      <td>133.000000</td>\n",
       "    </tr>\n",
       "    <tr>\n",
       "      <th>998</th>\n",
       "      <td>0</td>\n",
       "      <td>Toyota</td>\n",
       "      <td>158.000000</td>\n",
       "    </tr>\n",
       "    <tr>\n",
       "      <th>3808</th>\n",
       "      <td>1</td>\n",
       "      <td>Ford</td>\n",
       "      <td>112.000000</td>\n",
       "    </tr>\n",
       "    <tr>\n",
       "      <th>2035</th>\n",
       "      <td>1</td>\n",
       "      <td>Ford</td>\n",
       "      <td>129.000000</td>\n",
       "    </tr>\n",
       "    <tr>\n",
       "      <th>2036</th>\n",
       "      <td>1</td>\n",
       "      <td>Ford</td>\n",
       "      <td>129.000000</td>\n",
       "    </tr>\n",
       "    <tr>\n",
       "      <th>2037</th>\n",
       "      <td>1</td>\n",
       "      <td>Ford</td>\n",
       "      <td>129.000000</td>\n",
       "    </tr>\n",
       "    <tr>\n",
       "      <th>2038</th>\n",
       "      <td>1</td>\n",
       "      <td>Ford</td>\n",
       "      <td>129.000000</td>\n",
       "    </tr>\n",
       "    <tr>\n",
       "      <th>5318</th>\n",
       "      <td>2</td>\n",
       "      <td>Volkswagen</td>\n",
       "      <td>200.000000</td>\n",
       "    </tr>\n",
       "    <tr>\n",
       "      <th>5319</th>\n",
       "      <td>2</td>\n",
       "      <td>Volkswagen</td>\n",
       "      <td>200.000000</td>\n",
       "    </tr>\n",
       "    <tr>\n",
       "      <th>5320</th>\n",
       "      <td>2</td>\n",
       "      <td>Volkswagen</td>\n",
       "      <td>200.000000</td>\n",
       "    </tr>\n",
       "    <tr>\n",
       "      <th>5321</th>\n",
       "      <td>2</td>\n",
       "      <td>Volkswagen</td>\n",
       "      <td>200.000000</td>\n",
       "    </tr>\n",
       "    <tr>\n",
       "      <th>5368</th>\n",
       "      <td>2</td>\n",
       "      <td>Volkswagen</td>\n",
       "      <td>261.025641</td>\n",
       "    </tr>\n",
       "    <tr>\n",
       "      <th>6995</th>\n",
       "      <td>3</td>\n",
       "      <td>Nissan</td>\n",
       "      <td>249.000000</td>\n",
       "    </tr>\n",
       "    <tr>\n",
       "      <th>6992</th>\n",
       "      <td>3</td>\n",
       "      <td>Nissan</td>\n",
       "      <td>254.000000</td>\n",
       "    </tr>\n",
       "    <tr>\n",
       "      <th>6624</th>\n",
       "      <td>3</td>\n",
       "      <td>Nissan</td>\n",
       "      <td>254.500000</td>\n",
       "    </tr>\n",
       "    <tr>\n",
       "      <th>6626</th>\n",
       "      <td>3</td>\n",
       "      <td>Nissan</td>\n",
       "      <td>254.500000</td>\n",
       "    </tr>\n",
       "    <tr>\n",
       "      <th>6629</th>\n",
       "      <td>3</td>\n",
       "      <td>Nissan</td>\n",
       "      <td>254.500000</td>\n",
       "    </tr>\n",
       "    <tr>\n",
       "      <th>7250</th>\n",
       "      <td>4</td>\n",
       "      <td>Honda</td>\n",
       "      <td>130.000000</td>\n",
       "    </tr>\n",
       "    <tr>\n",
       "      <th>7713</th>\n",
       "      <td>4</td>\n",
       "      <td>Honda</td>\n",
       "      <td>167.679245</td>\n",
       "    </tr>\n",
       "    <tr>\n",
       "      <th>7715</th>\n",
       "      <td>4</td>\n",
       "      <td>Honda</td>\n",
       "      <td>167.679245</td>\n",
       "    </tr>\n",
       "    <tr>\n",
       "      <th>7717</th>\n",
       "      <td>4</td>\n",
       "      <td>Honda</td>\n",
       "      <td>167.679245</td>\n",
       "    </tr>\n",
       "    <tr>\n",
       "      <th>7719</th>\n",
       "      <td>4</td>\n",
       "      <td>Honda</td>\n",
       "      <td>167.679245</td>\n",
       "    </tr>\n",
       "  </tbody>\n",
       "</table>\n",
       "</div>"
      ],
      "text/plain": [
       "      subindex        Make  CO2 Emission Grams/Mile\n",
       "1000         0      Toyota               133.000000\n",
       "1001         0      Toyota               133.000000\n",
       "1002         0      Toyota               133.000000\n",
       "1003         0      Toyota               133.000000\n",
       "998          0      Toyota               158.000000\n",
       "3808         1        Ford               112.000000\n",
       "2035         1        Ford               129.000000\n",
       "2036         1        Ford               129.000000\n",
       "2037         1        Ford               129.000000\n",
       "2038         1        Ford               129.000000\n",
       "5318         2  Volkswagen               200.000000\n",
       "5319         2  Volkswagen               200.000000\n",
       "5320         2  Volkswagen               200.000000\n",
       "5321         2  Volkswagen               200.000000\n",
       "5368         2  Volkswagen               261.025641\n",
       "6995         3      Nissan               249.000000\n",
       "6992         3      Nissan               254.000000\n",
       "6624         3      Nissan               254.500000\n",
       "6626         3      Nissan               254.500000\n",
       "6629         3      Nissan               254.500000\n",
       "7250         4       Honda               130.000000\n",
       "7713         4       Honda               167.679245\n",
       "7715         4       Honda               167.679245\n",
       "7717         4       Honda               167.679245\n",
       "7719         4       Honda               167.679245"
      ]
     },
     "execution_count": 159,
     "metadata": {},
     "output_type": "execute_result"
    }
   ],
   "source": [
    "# Sort the -co2cars- first by the 'subindex' and then by 'CO2 Emission..' column and apply a groupby to 'Make' colum\n",
    "# this will sort the DF with CO2 items ascending without modify the -Make- sort as requested \n",
    "# Apply a head(5) to show the 5 lower values by group and show only the'Make' and 'CO2 Emmission..'\n",
    "# create a -DF2- and -gb- temporary variables for a better code reading while applying the sort and groupby\n",
    "\n",
    "DF2 = co2cars.sort_values(['subindex','CO2 Emission Grams/Mile'])\n",
    "gb = DF2.groupby([\"Make\"])[['subindex','Make',\"CO2 Emission Grams/Mile\"]].head(5)\n",
    "gb"
   ]
  },
  {
   "cell_type": "code",
   "execution_count": 160,
   "metadata": {},
   "outputs": [
    {
     "data": {
      "text/html": [
       "<div>\n",
       "<style scoped>\n",
       "    .dataframe tbody tr th:only-of-type {\n",
       "        vertical-align: middle;\n",
       "    }\n",
       "\n",
       "    .dataframe tbody tr th {\n",
       "        vertical-align: top;\n",
       "    }\n",
       "\n",
       "    .dataframe thead th {\n",
       "        text-align: right;\n",
       "    }\n",
       "</style>\n",
       "<table border=\"1\" class=\"dataframe\">\n",
       "  <thead>\n",
       "    <tr style=\"text-align: right;\">\n",
       "      <th></th>\n",
       "      <th>subindex</th>\n",
       "      <th>Make</th>\n",
       "      <th>Co2list</th>\n",
       "    </tr>\n",
       "  </thead>\n",
       "  <tbody>\n",
       "    <tr>\n",
       "      <th>0</th>\n",
       "      <td>0</td>\n",
       "      <td>Toyota</td>\n",
       "      <td>[133.0, 133.0, 133.0, 133.0, 158.0]</td>\n",
       "    </tr>\n",
       "    <tr>\n",
       "      <th>1</th>\n",
       "      <td>1</td>\n",
       "      <td>Ford</td>\n",
       "      <td>[112.0, 129.0, 129.0, 129.0, 129.0]</td>\n",
       "    </tr>\n",
       "    <tr>\n",
       "      <th>2</th>\n",
       "      <td>2</td>\n",
       "      <td>Volkswagen</td>\n",
       "      <td>[200.0, 200.0, 200.0, 200.0, 261.025641025641]</td>\n",
       "    </tr>\n",
       "    <tr>\n",
       "      <th>3</th>\n",
       "      <td>3</td>\n",
       "      <td>Nissan</td>\n",
       "      <td>[249.0, 254.0, 254.5, 254.5, 254.5]</td>\n",
       "    </tr>\n",
       "    <tr>\n",
       "      <th>4</th>\n",
       "      <td>4</td>\n",
       "      <td>Honda</td>\n",
       "      <td>[130.0, 167.67924528301887, 167.67924528301887...</td>\n",
       "    </tr>\n",
       "  </tbody>\n",
       "</table>\n",
       "</div>"
      ],
      "text/plain": [
       "   subindex        Make                                            Co2list\n",
       "0         0      Toyota                [133.0, 133.0, 133.0, 133.0, 158.0]\n",
       "1         1        Ford                [112.0, 129.0, 129.0, 129.0, 129.0]\n",
       "2         2  Volkswagen     [200.0, 200.0, 200.0, 200.0, 261.025641025641]\n",
       "3         3      Nissan                [249.0, 254.0, 254.5, 254.5, 254.5]\n",
       "4         4       Honda  [130.0, 167.67924528301887, 167.67924528301887..."
      ]
     },
     "execution_count": 160,
     "metadata": {},
     "output_type": "execute_result"
    }
   ],
   "source": [
    "# Create a second gb df -gblist- to make a list to fit of all the 'Co2 emission..' items in a single cell\n",
    "# and call the column 'Co2list' using apply(list) and reseting the index with a name. \n",
    "gblist = gb.groupby(['subindex','Make'])['CO2 Emission Grams/Mile'].apply(list).reset_index(name='Co2list')\n",
    "gblist"
   ]
  },
  {
   "cell_type": "code",
   "execution_count": 161,
   "metadata": {},
   "outputs": [
    {
     "data": {
      "text/plain": [
       "[[133.0, 133.0, 133.0, 133.0, 158.0],\n",
       " [112.0, 129.0, 129.0, 129.0, 129.0],\n",
       " [200.0, 200.0, 200.0, 200.0, 261.025641025641],\n",
       " [249.0, 254.0, 254.5, 254.5, 254.5],\n",
       " [130.0,\n",
       "  167.67924528301887,\n",
       "  167.67924528301887,\n",
       "  167.67924528301887,\n",
       "  167.67924528301887]]"
      ]
     },
     "execution_count": 161,
     "metadata": {},
     "output_type": "execute_result"
    }
   ],
   "source": [
    "# To fit the request format to the unit test:\n",
    "# Make the colum 'Co2list' a list.\n",
    "co2carlist = gblist['Co2list'].tolist()\n",
    "co2carlist"
   ]
  },
  {
   "cell_type": "code",
   "execution_count": 162,
   "metadata": {},
   "outputs": [
    {
     "data": {
      "text/plain": [
       "[['Toyota', 133.0, 133.0, 133.0, 133.0, 158.0],\n",
       " ['Ford', 112.0, 129.0, 129.0, 129.0, 129.0],\n",
       " ['Volkswagen', 200.0, 200.0, 200.0, 200.0, 261.025641025641],\n",
       " ['Nissan', 249.0, 254.0, 254.5, 254.5, 254.5],\n",
       " ['Honda',\n",
       "  130.0,\n",
       "  167.67924528301887,\n",
       "  167.67924528301887,\n",
       "  167.67924528301887,\n",
       "  167.67924528301887]]"
      ]
     },
     "execution_count": 162,
     "metadata": {},
     "output_type": "execute_result"
    }
   ],
   "source": [
    "# Use a While loop to format the list -co2carlist- values to insert the name of the brand at the beginning and\n",
    "# Assign it to a result variable -Q6- to fit the requested format.  Que trucazo no?\n",
    "\n",
    "i=0\n",
    "while i<(len(co2carlist)):\n",
    "    co2carlist[i].insert(0,gblist['Make'][i])\n",
    "    i+=1\n",
    "Q6 = co2carlist\n",
    "Q6"
   ]
  },
  {
   "cell_type": "markdown",
   "metadata": {
    "id": "gDNo1Fcesgk5"
   },
   "source": [
    "## Q7. Form 7 groups of 5 years to calculated the median Combined MPG of each group. The first group is from 1984 to 1988, the second from 1989 to 1993 and so on. The last group will have years not appearing in the dataset.\n",
    "\n",
    "##### Note: The groups ranges are inclusive on both sides, the first group starts with 1984 and cars from 1984 are included in it.\n",
    "##### Format : A 7X2 list with the first element of each row being a tuple of two integers being the lower and uppper range of the year groups and the esecond element being the median Combined MPG of that group, a float number.\n",
    "\n",
    "##### Example answer:\n",
    "\n",
    "\n",
    "```\n",
    "[[(1984, 1988), 11.0],\n",
    " [(1989, 1993), 10.0],\n",
    " [(1994, 1998), 10.0],\n",
    " [(1999, 2003), 14.0],\n",
    " [(2004, 2008), 13.0],\n",
    " [(2009, 2013), 14.0],\n",
    " [(2014, 2018), 15.0]]\n",
    "```\n",
    "\n"
   ]
  },
  {
   "cell_type": "code",
   "execution_count": 53,
   "metadata": {
    "colab": {
     "base_uri": "https://localhost:8080/",
     "height": 142
    },
    "id": "1cMEyFXVxBU3",
    "outputId": "5d938188-8098-4efc-c332-842c45d362aa"
   },
   "outputs": [
    {
     "data": {
      "text/html": [
       "<div>\n",
       "<style scoped>\n",
       "    .dataframe tbody tr th:only-of-type {\n",
       "        vertical-align: middle;\n",
       "    }\n",
       "\n",
       "    .dataframe tbody tr th {\n",
       "        vertical-align: top;\n",
       "    }\n",
       "\n",
       "    .dataframe thead th {\n",
       "        text-align: right;\n",
       "    }\n",
       "</style>\n",
       "<table border=\"1\" class=\"dataframe\">\n",
       "  <thead>\n",
       "    <tr style=\"text-align: right;\">\n",
       "      <th></th>\n",
       "      <th>Year</th>\n",
       "      <th>Combined MPG</th>\n",
       "    </tr>\n",
       "  </thead>\n",
       "  <tbody>\n",
       "    <tr>\n",
       "      <th>0</th>\n",
       "      <td>1984</td>\n",
       "      <td>17.0</td>\n",
       "    </tr>\n",
       "    <tr>\n",
       "      <th>1</th>\n",
       "      <td>1985</td>\n",
       "      <td>19.0</td>\n",
       "    </tr>\n",
       "    <tr>\n",
       "      <th>2</th>\n",
       "      <td>1986</td>\n",
       "      <td>19.0</td>\n",
       "    </tr>\n",
       "  </tbody>\n",
       "</table>\n",
       "</div>"
      ],
      "text/plain": [
       "   Year  Combined MPG\n",
       "0  1984          17.0\n",
       "1  1985          19.0\n",
       "2  1986          19.0"
      ]
     },
     "execution_count": 53,
     "metadata": {},
     "output_type": "execute_result"
    }
   ],
   "source": [
    "########## Q7\n",
    "#Your code here\n",
    "\n",
    "# Groupby 'Year' and aggregate the'Combined MPG':'median', reset the index and save a new DF -gbMPG-\n",
    "gb = cars.groupby(['Year']).agg({'Combined MPG':'median'})\n",
    "gbMPG = gb.reset_index()\n",
    "gbMPG.head(3)"
   ]
  },
  {
   "cell_type": "code",
   "execution_count": 97,
   "metadata": {
    "colab": {
     "base_uri": "https://localhost:8080/",
     "height": 1000
    },
    "id": "O9LwLxJUnyCx",
    "outputId": "d44f420b-c38d-485f-fe8f-7637f6ea8fe6"
   },
   "outputs": [
    {
     "data": {
      "text/html": [
       "<div>\n",
       "<style scoped>\n",
       "    .dataframe tbody tr th:only-of-type {\n",
       "        vertical-align: middle;\n",
       "    }\n",
       "\n",
       "    .dataframe tbody tr th {\n",
       "        vertical-align: top;\n",
       "    }\n",
       "\n",
       "    .dataframe thead th {\n",
       "        text-align: right;\n",
       "    }\n",
       "</style>\n",
       "<table border=\"1\" class=\"dataframe\">\n",
       "  <thead>\n",
       "    <tr style=\"text-align: right;\">\n",
       "      <th></th>\n",
       "      <th>Year</th>\n",
       "      <th>Combined MPG</th>\n",
       "      <th>grYears</th>\n",
       "    </tr>\n",
       "  </thead>\n",
       "  <tbody>\n",
       "    <tr>\n",
       "      <th>0</th>\n",
       "      <td>1984</td>\n",
       "      <td>17.0</td>\n",
       "      <td>(1984, 1988)</td>\n",
       "    </tr>\n",
       "    <tr>\n",
       "      <th>1</th>\n",
       "      <td>1985</td>\n",
       "      <td>19.0</td>\n",
       "      <td>(1984, 1988)</td>\n",
       "    </tr>\n",
       "    <tr>\n",
       "      <th>2</th>\n",
       "      <td>1986</td>\n",
       "      <td>19.0</td>\n",
       "      <td>(1984, 1988)</td>\n",
       "    </tr>\n",
       "    <tr>\n",
       "      <th>3</th>\n",
       "      <td>1987</td>\n",
       "      <td>19.0</td>\n",
       "      <td>(1984, 1988)</td>\n",
       "    </tr>\n",
       "    <tr>\n",
       "      <th>4</th>\n",
       "      <td>1988</td>\n",
       "      <td>19.0</td>\n",
       "      <td>(1984, 1988)</td>\n",
       "    </tr>\n",
       "    <tr>\n",
       "      <th>5</th>\n",
       "      <td>1989</td>\n",
       "      <td>19.0</td>\n",
       "      <td>(1989, 1993)</td>\n",
       "    </tr>\n",
       "    <tr>\n",
       "      <th>6</th>\n",
       "      <td>1990</td>\n",
       "      <td>18.0</td>\n",
       "      <td>(1989, 1993)</td>\n",
       "    </tr>\n",
       "    <tr>\n",
       "      <th>7</th>\n",
       "      <td>1991</td>\n",
       "      <td>18.0</td>\n",
       "      <td>(1989, 1993)</td>\n",
       "    </tr>\n",
       "    <tr>\n",
       "      <th>8</th>\n",
       "      <td>1992</td>\n",
       "      <td>18.0</td>\n",
       "      <td>(1989, 1993)</td>\n",
       "    </tr>\n",
       "    <tr>\n",
       "      <th>9</th>\n",
       "      <td>1993</td>\n",
       "      <td>18.0</td>\n",
       "      <td>(1989, 1993)</td>\n",
       "    </tr>\n",
       "    <tr>\n",
       "      <th>10</th>\n",
       "      <td>1994</td>\n",
       "      <td>18.0</td>\n",
       "      <td>(1994, 1998)</td>\n",
       "    </tr>\n",
       "    <tr>\n",
       "      <th>11</th>\n",
       "      <td>1995</td>\n",
       "      <td>18.0</td>\n",
       "      <td>(1994, 1998)</td>\n",
       "    </tr>\n",
       "    <tr>\n",
       "      <th>12</th>\n",
       "      <td>1996</td>\n",
       "      <td>19.0</td>\n",
       "      <td>(1994, 1998)</td>\n",
       "    </tr>\n",
       "    <tr>\n",
       "      <th>13</th>\n",
       "      <td>1997</td>\n",
       "      <td>19.0</td>\n",
       "      <td>(1994, 1998)</td>\n",
       "    </tr>\n",
       "    <tr>\n",
       "      <th>14</th>\n",
       "      <td>1998</td>\n",
       "      <td>19.0</td>\n",
       "      <td>(1994, 1998)</td>\n",
       "    </tr>\n",
       "    <tr>\n",
       "      <th>15</th>\n",
       "      <td>1999</td>\n",
       "      <td>19.0</td>\n",
       "      <td>(1999, 2003)</td>\n",
       "    </tr>\n",
       "    <tr>\n",
       "      <th>16</th>\n",
       "      <td>2000</td>\n",
       "      <td>19.0</td>\n",
       "      <td>(1999, 2003)</td>\n",
       "    </tr>\n",
       "    <tr>\n",
       "      <th>17</th>\n",
       "      <td>2001</td>\n",
       "      <td>19.0</td>\n",
       "      <td>(1999, 2003)</td>\n",
       "    </tr>\n",
       "    <tr>\n",
       "      <th>18</th>\n",
       "      <td>2002</td>\n",
       "      <td>19.0</td>\n",
       "      <td>(1999, 2003)</td>\n",
       "    </tr>\n",
       "    <tr>\n",
       "      <th>19</th>\n",
       "      <td>2003</td>\n",
       "      <td>19.0</td>\n",
       "      <td>(1999, 2003)</td>\n",
       "    </tr>\n",
       "    <tr>\n",
       "      <th>20</th>\n",
       "      <td>2004</td>\n",
       "      <td>19.0</td>\n",
       "      <td>(2004, 2008)</td>\n",
       "    </tr>\n",
       "    <tr>\n",
       "      <th>21</th>\n",
       "      <td>2005</td>\n",
       "      <td>19.0</td>\n",
       "      <td>(2004, 2008)</td>\n",
       "    </tr>\n",
       "    <tr>\n",
       "      <th>22</th>\n",
       "      <td>2006</td>\n",
       "      <td>19.0</td>\n",
       "      <td>(2004, 2008)</td>\n",
       "    </tr>\n",
       "    <tr>\n",
       "      <th>23</th>\n",
       "      <td>2007</td>\n",
       "      <td>19.0</td>\n",
       "      <td>(2004, 2008)</td>\n",
       "    </tr>\n",
       "    <tr>\n",
       "      <th>24</th>\n",
       "      <td>2008</td>\n",
       "      <td>19.0</td>\n",
       "      <td>(2004, 2008)</td>\n",
       "    </tr>\n",
       "    <tr>\n",
       "      <th>25</th>\n",
       "      <td>2009</td>\n",
       "      <td>20.0</td>\n",
       "      <td>(2009, 2013)</td>\n",
       "    </tr>\n",
       "    <tr>\n",
       "      <th>26</th>\n",
       "      <td>2010</td>\n",
       "      <td>20.0</td>\n",
       "      <td>(2009, 2013)</td>\n",
       "    </tr>\n",
       "    <tr>\n",
       "      <th>27</th>\n",
       "      <td>2011</td>\n",
       "      <td>21.0</td>\n",
       "      <td>(2009, 2013)</td>\n",
       "    </tr>\n",
       "    <tr>\n",
       "      <th>28</th>\n",
       "      <td>2012</td>\n",
       "      <td>21.0</td>\n",
       "      <td>(2009, 2013)</td>\n",
       "    </tr>\n",
       "    <tr>\n",
       "      <th>29</th>\n",
       "      <td>2013</td>\n",
       "      <td>22.0</td>\n",
       "      <td>(2009, 2013)</td>\n",
       "    </tr>\n",
       "    <tr>\n",
       "      <th>30</th>\n",
       "      <td>2014</td>\n",
       "      <td>22.0</td>\n",
       "      <td>(2014, 2018)</td>\n",
       "    </tr>\n",
       "    <tr>\n",
       "      <th>31</th>\n",
       "      <td>2015</td>\n",
       "      <td>22.0</td>\n",
       "      <td>(2014, 2018)</td>\n",
       "    </tr>\n",
       "    <tr>\n",
       "      <th>32</th>\n",
       "      <td>2016</td>\n",
       "      <td>23.0</td>\n",
       "      <td>(2014, 2018)</td>\n",
       "    </tr>\n",
       "    <tr>\n",
       "      <th>33</th>\n",
       "      <td>2017</td>\n",
       "      <td>23.0</td>\n",
       "      <td>(2014, 2018)</td>\n",
       "    </tr>\n",
       "  </tbody>\n",
       "</table>\n",
       "</div>"
      ],
      "text/plain": [
       "    Year  Combined MPG       grYears\n",
       "0   1984          17.0  (1984, 1988)\n",
       "1   1985          19.0  (1984, 1988)\n",
       "2   1986          19.0  (1984, 1988)\n",
       "3   1987          19.0  (1984, 1988)\n",
       "4   1988          19.0  (1984, 1988)\n",
       "5   1989          19.0  (1989, 1993)\n",
       "6   1990          18.0  (1989, 1993)\n",
       "7   1991          18.0  (1989, 1993)\n",
       "8   1992          18.0  (1989, 1993)\n",
       "9   1993          18.0  (1989, 1993)\n",
       "10  1994          18.0  (1994, 1998)\n",
       "11  1995          18.0  (1994, 1998)\n",
       "12  1996          19.0  (1994, 1998)\n",
       "13  1997          19.0  (1994, 1998)\n",
       "14  1998          19.0  (1994, 1998)\n",
       "15  1999          19.0  (1999, 2003)\n",
       "16  2000          19.0  (1999, 2003)\n",
       "17  2001          19.0  (1999, 2003)\n",
       "18  2002          19.0  (1999, 2003)\n",
       "19  2003          19.0  (1999, 2003)\n",
       "20  2004          19.0  (2004, 2008)\n",
       "21  2005          19.0  (2004, 2008)\n",
       "22  2006          19.0  (2004, 2008)\n",
       "23  2007          19.0  (2004, 2008)\n",
       "24  2008          19.0  (2004, 2008)\n",
       "25  2009          20.0  (2009, 2013)\n",
       "26  2010          20.0  (2009, 2013)\n",
       "27  2011          21.0  (2009, 2013)\n",
       "28  2012          21.0  (2009, 2013)\n",
       "29  2013          22.0  (2009, 2013)\n",
       "30  2014          22.0  (2014, 2018)\n",
       "31  2015          22.0  (2014, 2018)\n",
       "32  2016          23.0  (2014, 2018)\n",
       "33  2017          23.0  (2014, 2018)"
      ]
     },
     "execution_count": 97,
     "metadata": {},
     "output_type": "execute_result"
    }
   ],
   "source": [
    "# We need to use bins, with a range of 5 year each, starting from 1983 (to include 1984 cars) to 1988 and so on.\n",
    "# We create the labes with the offset to fall in the correct number of years (1984 to 1988... etc)\n",
    "# Using pd.cut create a column with the Grouped Years 'grYears' and set it to the index accordingly to MPG\n",
    "\n",
    "bins = (1983, 1988, 1993, 1998, 2003, 2008, 2013, np.inf)\n",
    "labels = ((1984, 1988),(1989, 1993), (1994, 1998), (1999, 2003), (2004, 2008), (2009, 2013), (2014, 2018))\n",
    "gbMPG['grYears'] = pd.cut(gbMPG.Year, bins=bins, labels=labels)\n",
    "gbMPG"
   ]
  },
  {
   "cell_type": "code",
   "execution_count": 164,
   "metadata": {
    "colab": {
     "base_uri": "https://localhost:8080/",
     "height": 266
    },
    "id": "uy-UIkZFoKbP",
    "outputId": "3d5e1813-3423-48f1-ba8e-a5e0e71125a2"
   },
   "outputs": [
    {
     "data": {
      "text/html": [
       "<div>\n",
       "<style scoped>\n",
       "    .dataframe tbody tr th:only-of-type {\n",
       "        vertical-align: middle;\n",
       "    }\n",
       "\n",
       "    .dataframe tbody tr th {\n",
       "        vertical-align: top;\n",
       "    }\n",
       "\n",
       "    .dataframe thead th {\n",
       "        text-align: right;\n",
       "    }\n",
       "</style>\n",
       "<table border=\"1\" class=\"dataframe\">\n",
       "  <thead>\n",
       "    <tr style=\"text-align: right;\">\n",
       "      <th></th>\n",
       "      <th>grYears</th>\n",
       "      <th>median</th>\n",
       "    </tr>\n",
       "  </thead>\n",
       "  <tbody>\n",
       "    <tr>\n",
       "      <th>0</th>\n",
       "      <td>(1984, 1988)</td>\n",
       "      <td>19.0</td>\n",
       "    </tr>\n",
       "    <tr>\n",
       "      <th>1</th>\n",
       "      <td>(1989, 1993)</td>\n",
       "      <td>18.0</td>\n",
       "    </tr>\n",
       "    <tr>\n",
       "      <th>2</th>\n",
       "      <td>(1994, 1998)</td>\n",
       "      <td>19.0</td>\n",
       "    </tr>\n",
       "    <tr>\n",
       "      <th>3</th>\n",
       "      <td>(1999, 2003)</td>\n",
       "      <td>19.0</td>\n",
       "    </tr>\n",
       "    <tr>\n",
       "      <th>4</th>\n",
       "      <td>(2004, 2008)</td>\n",
       "      <td>19.0</td>\n",
       "    </tr>\n",
       "    <tr>\n",
       "      <th>5</th>\n",
       "      <td>(2009, 2013)</td>\n",
       "      <td>21.0</td>\n",
       "    </tr>\n",
       "    <tr>\n",
       "      <th>6</th>\n",
       "      <td>(2014, 2018)</td>\n",
       "      <td>22.5</td>\n",
       "    </tr>\n",
       "  </tbody>\n",
       "</table>\n",
       "</div>"
      ],
      "text/plain": [
       "        grYears  median\n",
       "0  (1984, 1988)    19.0\n",
       "1  (1989, 1993)    18.0\n",
       "2  (1994, 1998)    19.0\n",
       "3  (1999, 2003)    19.0\n",
       "4  (2004, 2008)    19.0\n",
       "5  (2009, 2013)    21.0\n",
       "6  (2014, 2018)    22.5"
      ]
     },
     "execution_count": 164,
     "metadata": {},
     "output_type": "execute_result"
    }
   ],
   "source": [
    "# Groupby using the colum 'grYears' and applying the median to 'Combined MPG' values,\n",
    "# Reset the index of the gb and assign it to a new DF -MPGyears- for a cleaner read of code\n",
    "MPGyears = gbMPG.groupby('grYears')['Combined MPG'].agg({'median'}).reset_index()\n",
    "MPGyears"
   ]
  },
  {
   "cell_type": "code",
   "execution_count": 165,
   "metadata": {
    "colab": {
     "base_uri": "https://localhost:8080/"
    },
    "id": "FkUl4K3BoWHT",
    "outputId": "11f75dcb-2ba9-4177-bacf-2fbaf3f04bd9"
   },
   "outputs": [
    {
     "data": {
      "text/plain": [
       "[[(1984, 1988), 19.0],\n",
       " [(1989, 1993), 18.0],\n",
       " [(1994, 1998), 19.0],\n",
       " [(1999, 2003), 19.0],\n",
       " [(2004, 2008), 19.0],\n",
       " [(2009, 2013), 21.0],\n",
       " [(2014, 2018), 22.5]]"
      ]
     },
     "execution_count": 165,
     "metadata": {},
     "output_type": "execute_result"
    }
   ],
   "source": [
    "# Transform the DF -MPGyears- to a list and assign it to the -Q7- result variable\n",
    "Q7 = MPGyears.values.tolist()\n",
    "Q7"
   ]
  },
  {
   "cell_type": "markdown",
   "metadata": {
    "id": "LiGydnlQ4cX4"
   },
   "source": [
    "## Test your answers\n",
    "\n",
    "##### We provide you some tests to make sure your answer dictionary is in the correct format using unittest.\n",
    "##### These tests are not meant to be comprehensive, you should review all your answers carefully."
   ]
  },
  {
   "cell_type": "code",
   "execution_count": 171,
   "metadata": {
    "colab": {
     "base_uri": "https://localhost:8080/"
    },
    "id": "iNwVFmHZ4csn",
    "outputId": "024c75e1-5610-4f4f-d980-39d9e09304f2"
   },
   "outputs": [
    {
     "name": "stderr",
     "output_type": "stream",
     "text": [
      "test_Q1 (__main__.TestAnswers) ... ok\n",
      "test_Q2_dim (__main__.TestAnswers) ... ok\n",
      "test_Q2_types (__main__.TestAnswers) ... ok\n",
      "test_Q3_types (__main__.TestAnswers) ... ok\n",
      "test_Q4_dim (__main__.TestAnswers) ... ok\n",
      "test_Q4_types (__main__.TestAnswers) ... ok\n",
      "test_Q5_dim (__main__.TestAnswers) ... ok\n",
      "test_Q5_first_zero (__main__.TestAnswers) ... ok\n",
      "test_Q5_types (__main__.TestAnswers) ... ok\n",
      "test_Q6_check_first_and_last_brand (__main__.TestAnswers) ... ok\n",
      "test_Q6_dim (__main__.TestAnswers) ... ok\n",
      "test_Q7_dim (__main__.TestAnswers) ... ok\n",
      "test_Q7_types (__main__.TestAnswers) ... ok\n",
      "test_answers_types (__main__.TestAnswers) ... ok\n",
      "test_if_dict (__main__.TestAnswers) ... ok\n",
      "test_keys (__main__.TestAnswers) ... ok\n",
      "\n",
      "----------------------------------------------------------------------\n",
      "Ran 16 tests in 0.026s\n",
      "\n",
      "OK\n"
     ]
    },
    {
     "data": {
      "text/plain": [
       "<unittest.main.TestProgram at 0x11c8ffe80>"
      ]
     },
     "execution_count": 171,
     "metadata": {},
     "output_type": "execute_result"
    }
   ],
   "source": [
    "import unittest\n",
    "\n",
    "class TestAnswers(unittest.TestCase):\n",
    "    def test_if_dict(self):\n",
    "        self.assertIsInstance(answer_dict, dict)\n",
    "\n",
    "    def test_keys(self):\n",
    "        self.assertEqual(list(answer_dict.keys()), ['Q1', 'Q2', 'Q3', 'Q4', 'Q5', 'Q6', 'Q7'])\n",
    "\n",
    "    def test_answers_types(self):\n",
    "        types_values = [type(k) for k in answer_dict.values()]\n",
    "        answer_types = [float, list, list, list, list, list, list]\n",
    "        self.assertEqual(types_values, answer_types)\n",
    "\n",
    "    def test_Q1(self):\n",
    "        self.assertEqual(type(answer_dict['Q1']), float)\n",
    "\n",
    "    def test_Q2_dim(self):\n",
    "        self.assertEqual(np.array(answer_dict['Q2']).shape, (5,2))\n",
    "\n",
    "    def test_Q2_types(self):\n",
    "        dtype1 = type(answer_dict['Q2'][0][0])\n",
    "        dtype2 = type(answer_dict['Q2'][0][1])\n",
    "        self.assertEqual([dtype1, dtype2], [str, int])\n",
    "\n",
    "    def test_Q3_types(self):\n",
    "        q3_types = set([type(item) for item in answer_dict['Q3']])\n",
    "        self.assertEqual(q3_types, {str})\n",
    "\n",
    "    def test_Q4_dim(self):\n",
    "        self.assertEqual(np.array(answer_dict['Q4']).shape, (9,3))\n",
    "\n",
    "    def test_Q4_types(self):\n",
    "        dtype1 = type(answer_dict['Q4'][0][0])\n",
    "        dtype2 = type(answer_dict['Q4'][0][1])\n",
    "        dtype3 = type(answer_dict['Q4'][0][2])\n",
    "        self.assertEqual([dtype1, dtype2, dtype3], [str, int, float])\n",
    "\n",
    "    def test_Q5_dim(self):\n",
    "        self.assertEqual(np.array(answer_dict['Q5']).shape, (19,3))\n",
    "\n",
    "    def test_Q5_types(self):\n",
    "        dtype1 = type(answer_dict['Q5'][0][0])\n",
    "        dtype2 = type(answer_dict['Q5'][0][1])\n",
    "        dtype3 = type(answer_dict['Q5'][0][2])\n",
    "        self.assertEqual([dtype1, dtype2, dtype3], [int, int, float])\n",
    "\n",
    "    def test_Q5_first_zero(self):\n",
    "        self.assertEqual(answer_dict['Q5'][0][2], 0)\n",
    "\n",
    "\n",
    "    def test_Q6_dim(self):\n",
    "        self.assertEqual(np.array(answer_dict['Q6']).shape, (5,6))\n",
    "\n",
    "    def test_Q5_types(self):\n",
    "        dtype1 = type(answer_dict['Q6'][0][0])\n",
    "        dtype2 = type(answer_dict['Q6'][0][1])\n",
    "        dtype3 = type(answer_dict['Q6'][0][2])\n",
    "        dtype4 = type(answer_dict['Q6'][0][3])\n",
    "        dtype5 = type(answer_dict['Q6'][0][4])\n",
    "        dtype6 = type(answer_dict['Q6'][0][5])\n",
    "        self.assertEqual([dtype1, dtype2, dtype3, dtype4, dtype5, dtype6], [str, float, float, float, float, float])\n",
    "\n",
    "    def test_Q6_check_first_and_last_brand(self):\n",
    "        first_brand = answer_dict['Q6'][0][0]\n",
    "        last_brand = answer_dict['Q6'][4][0]\n",
    "\n",
    "        self.assertEqual([first_brand, last_brand], [\"Toyota\", \"Honda\"])\n",
    "\n",
    "    def test_Q7_dim(self):\n",
    "        self.assertEqual(np.array(answer_dict['Q7'], dtype=object).shape, (7,2))\n",
    "\n",
    "    def test_Q7_types(self):\n",
    "        dtype1 = type(answer_dict['Q7'][0][0])\n",
    "        dtype2 = type(answer_dict['Q7'][0][1])\n",
    "        self.assertEqual([dtype1, dtype2], [tuple, float])\n",
    "\n",
    "unittest.main(argv=[''], verbosity=2, exit=False)"
   ]
  },
  {
   "cell_type": "markdown",
   "metadata": {
    "id": "O_Wx_D0kGjmc"
   },
   "source": [
    "## Save your answers\n",
    "\n",
    "\n",
    "##### First, take a moment to evaluate your answers and make sure you have not missed anything\n",
    "\n",
    "##### Use the following code to save your answers in pickle format, change the filename using the following format:\n",
    "##### FIRSTNAME_LASTNAME_answers.pkl\n",
    "##### Example: Juan_Perez_answers.pkl\n",
    "\n",
    "##### If you are using google colab you can find your file on the left side bar by clicking the folder icon inside the sample_data folder. Remember to upload the pickle file and the notebook to github and submit their URLs to the [google form](https://forms.gle/wWysZEMkoZsjB11Y7)."
   ]
  },
  {
   "cell_type": "code",
   "execution_count": 170,
   "metadata": {
    "colab": {
     "base_uri": "https://localhost:8080/"
    },
    "id": "nCzU1sKMknfH",
    "outputId": "51493de2-1ef1-49f7-fab8-f078bb6c1560"
   },
   "outputs": [
    {
     "data": {
      "text/plain": [
       "{'Q1': 392.7417210857633,\n",
       " 'Q2': [['Mercedes-Benz', 333],\n",
       "  ['BMW', 284],\n",
       "  ['Chevrolet', 253],\n",
       "  ['Ford', 185],\n",
       "  ['GMC', 163]],\n",
       " 'Q3': ['CNG',\n",
       "  'Diesel',\n",
       "  'Gasoline or E85',\n",
       "  'Gasoline or natural gas',\n",
       "  'Gasoline or propane',\n",
       "  'Midgrade',\n",
       "  'Premium',\n",
       "  'Premium Gas or Electricity',\n",
       "  'Premium and Electricity',\n",
       "  'Premium or E85',\n",
       "  'Regular',\n",
       "  'Regular Gas and Electricity',\n",
       "  'Regular Gas or Electricity'],\n",
       " 'Q4': [['Cab/Chassis 2WD', 1993, 4.1122558654247925],\n",
       "  ['Cab/Chassis 2WD', 1992, 4.1122558654247925],\n",
       "  ['Cab/Chassis 2WD', 1991, 4.1122558654247925],\n",
       "  ['Cab/Chassis 2WD', 1990, 4.1122558654247925],\n",
       "  ['Cab/Chassis 2WD', 1989, 4.1122558654247925],\n",
       "  ['Camry CNG', 1999, -3.932541757118491],\n",
       "  ['Camry CNG', 2001, -3.9316423754756538],\n",
       "  ['Camry CNG', 2000, -3.9316423754756538],\n",
       "  ['Cab/Chassis 2WD', 1993, 3.3791118637260937]],\n",
       " 'Q5': [[1986, 26, 0.0],\n",
       "  [1987, 26, 0.0],\n",
       "  [1988, 25, -1.0],\n",
       "  [1989, 25, 0.0],\n",
       "  [1999, 24, -1.0],\n",
       "  [2000, 24, 0.0],\n",
       "  [2001, 24, 0.0],\n",
       "  [2002, 24, 0.0],\n",
       "  [2003, 24, 0.0],\n",
       "  [2004, 24, 0.0],\n",
       "  [2005, 24, 0.0],\n",
       "  [2006, 24, 0.0],\n",
       "  [2010, 25, 1.0],\n",
       "  [2011, 26, 1.0],\n",
       "  [2012, 26, 0.0],\n",
       "  [2013, 26, 0.0],\n",
       "  [2015, 30, 4.0],\n",
       "  [2016, 30, 0.0],\n",
       "  [2017, 29, -1.0]],\n",
       " 'Q6': [['Toyota', 133.0, 133.0, 133.0, 133.0, 158.0],\n",
       "  ['Ford', 112.0, 129.0, 129.0, 129.0, 129.0],\n",
       "  ['Volkswagen', 200.0, 200.0, 200.0, 200.0, 261.025641025641],\n",
       "  ['Nissan', 249.0, 254.0, 254.5, 254.5, 254.5],\n",
       "  ['Honda',\n",
       "   130.0,\n",
       "   167.67924528301887,\n",
       "   167.67924528301887,\n",
       "   167.67924528301887,\n",
       "   167.67924528301887]],\n",
       " 'Q7': [[(1984, 1988), 19.0],\n",
       "  [(1989, 1993), 18.0],\n",
       "  [(1994, 1998), 19.0],\n",
       "  [(1999, 2003), 19.0],\n",
       "  [(2004, 2008), 19.0],\n",
       "  [(2009, 2013), 21.0],\n",
       "  [(2014, 2018), 22.5]]}"
      ]
     },
     "execution_count": 170,
     "metadata": {},
     "output_type": "execute_result"
    }
   ],
   "source": [
    "answer_dict"
   ]
  },
  {
   "cell_type": "code",
   "execution_count": 172,
   "metadata": {
    "id": "dEZ-vo0QGTeu"
   },
   "outputs": [],
   "source": [
    "import pickle\n",
    "\n",
    "file_name = \"Gerardo_Peralta_answers.pkl\"\n",
    "path = \"/Users/geperalta/Downloads/\"\n",
    "\n",
    "with open(path+file_name, 'wb') as f:\n",
    "    pickle.dump(answer_dict, f, protocol=pickle.HIGHEST_PROTOCOL)"
   ]
  }
 ],
 "metadata": {
  "colab": {
   "collapsed_sections": [],
   "name": "Copy of Code_Challenge_Student.ipynb",
   "provenance": []
  },
  "kernelspec": {
   "display_name": "Python 3 (ipykernel)",
   "language": "python",
   "name": "python3"
  },
  "language_info": {
   "codemirror_mode": {
    "name": "ipython",
    "version": 3
   },
   "file_extension": ".py",
   "mimetype": "text/x-python",
   "name": "python",
   "nbconvert_exporter": "python",
   "pygments_lexer": "ipython3",
   "version": "3.9.7"
  }
 },
 "nbformat": 4,
 "nbformat_minor": 1
}
